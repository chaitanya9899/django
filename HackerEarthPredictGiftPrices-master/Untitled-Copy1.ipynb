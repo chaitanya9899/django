{
 "cells": [
  {
   "cell_type": "code",
   "execution_count": 1,
   "metadata": {},
   "outputs": [],
   "source": [
    "import pandas as pd\n",
    "import numpy as np\n",
    "import datetime\n",
    "from dateutil.relativedelta import relativedelta\n",
    "from datetime import date\n",
    "import re"
   ]
  },
  {
   "cell_type": "code",
   "execution_count": 2,
   "metadata": {},
   "outputs": [],
   "source": [
    "from fastai.tabular import add_datepart"
   ]
  },
  {
   "cell_type": "code",
   "execution_count": 3,
   "metadata": {},
   "outputs": [],
   "source": [
    "df = pd.read_csv('../HackerEarthPredictGiftPrices/dataset/train.csv')"
   ]
  },
  {
   "cell_type": "code",
   "execution_count": 4,
   "metadata": {},
   "outputs": [
    {
     "data": {
      "text/html": [
       "<div>\n",
       "<style scoped>\n",
       "    .dataframe tbody tr th:only-of-type {\n",
       "        vertical-align: middle;\n",
       "    }\n",
       "\n",
       "    .dataframe tbody tr th {\n",
       "        vertical-align: top;\n",
       "    }\n",
       "\n",
       "    .dataframe thead th {\n",
       "        text-align: right;\n",
       "    }\n",
       "</style>\n",
       "<table border=\"1\" class=\"dataframe\">\n",
       "  <thead>\n",
       "    <tr style=\"text-align: right;\">\n",
       "      <th></th>\n",
       "      <th>gift_id</th>\n",
       "      <th>gift_type</th>\n",
       "      <th>gift_category</th>\n",
       "      <th>gift_cluster</th>\n",
       "      <th>instock_date</th>\n",
       "      <th>stock_update_date</th>\n",
       "      <th>lsg_1</th>\n",
       "      <th>lsg_2</th>\n",
       "      <th>lsg_3</th>\n",
       "      <th>lsg_4</th>\n",
       "      <th>lsg_5</th>\n",
       "      <th>lsg_6</th>\n",
       "      <th>uk_date1</th>\n",
       "      <th>uk_date2</th>\n",
       "      <th>is_discounted</th>\n",
       "      <th>volumes</th>\n",
       "      <th>price</th>\n",
       "    </tr>\n",
       "  </thead>\n",
       "  <tbody>\n",
       "    <tr>\n",
       "      <th>0</th>\n",
       "      <td>GF_11156</td>\n",
       "      <td>61</td>\n",
       "      <td>534</td>\n",
       "      <td>3942</td>\n",
       "      <td>2014-02-21 05:07:06.000</td>\n",
       "      <td>2016-11-09 15:49:51.000</td>\n",
       "      <td>3377</td>\n",
       "      <td>5221</td>\n",
       "      <td>504</td>\n",
       "      <td>1912</td>\n",
       "      <td>10</td>\n",
       "      <td>554</td>\n",
       "      <td>2014-02-24 08:07:06.000</td>\n",
       "      <td>2014-02-24 07:07:06.000</td>\n",
       "      <td>0</td>\n",
       "      <td>NaN</td>\n",
       "      <td>175.54</td>\n",
       "    </tr>\n",
       "    <tr>\n",
       "      <th>1</th>\n",
       "      <td>GF_11157</td>\n",
       "      <td>61</td>\n",
       "      <td>534</td>\n",
       "      <td>3942</td>\n",
       "      <td>2014-02-21 06:07:06.000</td>\n",
       "      <td>2016-11-11 13:49:51.000</td>\n",
       "      <td>3377</td>\n",
       "      <td>5221</td>\n",
       "      <td>504</td>\n",
       "      <td>1912</td>\n",
       "      <td>10</td>\n",
       "      <td>554</td>\n",
       "      <td>2014-02-22 07:07:06.000</td>\n",
       "      <td>2014-02-24 06:07:06.000</td>\n",
       "      <td>1</td>\n",
       "      <td>NaN</td>\n",
       "      <td>95.80</td>\n",
       "    </tr>\n",
       "    <tr>\n",
       "      <th>2</th>\n",
       "      <td>GF_15689</td>\n",
       "      <td>584</td>\n",
       "      <td>262</td>\n",
       "      <td>0</td>\n",
       "      <td>2014-02-21 09:30:21.000</td>\n",
       "      <td>2016-03-24 14:46:18.000</td>\n",
       "      <td>5290</td>\n",
       "      <td>1579</td>\n",
       "      <td>3203</td>\n",
       "      <td>1912</td>\n",
       "      <td>9</td>\n",
       "      <td>1578</td>\n",
       "      <td>2016-01-26 00:04:45.000</td>\n",
       "      <td>2016-03-18 02:00:00.000</td>\n",
       "      <td>1</td>\n",
       "      <td>NaN</td>\n",
       "      <td>107.35</td>\n",
       "    </tr>\n",
       "    <tr>\n",
       "      <th>3</th>\n",
       "      <td>GF_11155</td>\n",
       "      <td>61</td>\n",
       "      <td>534</td>\n",
       "      <td>3942</td>\n",
       "      <td>2014-02-22 05:07:06.000</td>\n",
       "      <td>2016-11-10 16:49:51.000</td>\n",
       "      <td>3377</td>\n",
       "      <td>5221</td>\n",
       "      <td>504</td>\n",
       "      <td>1912</td>\n",
       "      <td>10</td>\n",
       "      <td>554</td>\n",
       "      <td>2016-11-07 13:49:51.000</td>\n",
       "      <td>2016-11-06 04:00:00.000</td>\n",
       "      <td>0</td>\n",
       "      <td>NaN</td>\n",
       "      <td>172.90</td>\n",
       "    </tr>\n",
       "    <tr>\n",
       "      <th>4</th>\n",
       "      <td>GF_11158</td>\n",
       "      <td>61</td>\n",
       "      <td>534</td>\n",
       "      <td>3942</td>\n",
       "      <td>2014-02-22 07:07:06.000</td>\n",
       "      <td>2016-11-10 13:49:51.000</td>\n",
       "      <td>3377</td>\n",
       "      <td>5221</td>\n",
       "      <td>504</td>\n",
       "      <td>1912</td>\n",
       "      <td>9</td>\n",
       "      <td>554</td>\n",
       "      <td>2016-11-07 15:49:51.000</td>\n",
       "      <td>2016-11-06 01:00:00.000</td>\n",
       "      <td>1</td>\n",
       "      <td>NaN</td>\n",
       "      <td>77.72</td>\n",
       "    </tr>\n",
       "  </tbody>\n",
       "</table>\n",
       "</div>"
      ],
      "text/plain": [
       "    gift_id  gift_type  gift_category  gift_cluster             instock_date  \\\n",
       "0  GF_11156         61            534          3942  2014-02-21 05:07:06.000   \n",
       "1  GF_11157         61            534          3942  2014-02-21 06:07:06.000   \n",
       "2  GF_15689        584            262             0  2014-02-21 09:30:21.000   \n",
       "3  GF_11155         61            534          3942  2014-02-22 05:07:06.000   \n",
       "4  GF_11158         61            534          3942  2014-02-22 07:07:06.000   \n",
       "\n",
       "         stock_update_date  lsg_1  lsg_2  lsg_3  lsg_4  lsg_5  lsg_6  \\\n",
       "0  2016-11-09 15:49:51.000   3377   5221    504   1912     10    554   \n",
       "1  2016-11-11 13:49:51.000   3377   5221    504   1912     10    554   \n",
       "2  2016-03-24 14:46:18.000   5290   1579   3203   1912      9   1578   \n",
       "3  2016-11-10 16:49:51.000   3377   5221    504   1912     10    554   \n",
       "4  2016-11-10 13:49:51.000   3377   5221    504   1912      9    554   \n",
       "\n",
       "                  uk_date1                 uk_date2  is_discounted  volumes  \\\n",
       "0  2014-02-24 08:07:06.000  2014-02-24 07:07:06.000              0      NaN   \n",
       "1  2014-02-22 07:07:06.000  2014-02-24 06:07:06.000              1      NaN   \n",
       "2  2016-01-26 00:04:45.000  2016-03-18 02:00:00.000              1      NaN   \n",
       "3  2016-11-07 13:49:51.000  2016-11-06 04:00:00.000              0      NaN   \n",
       "4  2016-11-07 15:49:51.000  2016-11-06 01:00:00.000              1      NaN   \n",
       "\n",
       "    price  \n",
       "0  175.54  \n",
       "1   95.80  \n",
       "2  107.35  \n",
       "3  172.90  \n",
       "4   77.72  "
      ]
     },
     "execution_count": 4,
     "metadata": {},
     "output_type": "execute_result"
    }
   ],
   "source": [
    "df.head()"
   ]
  },
  {
   "cell_type": "code",
   "execution_count": 5,
   "metadata": {},
   "outputs": [
    {
     "data": {
      "text/html": [
       "<div>\n",
       "<style scoped>\n",
       "    .dataframe tbody tr th:only-of-type {\n",
       "        vertical-align: middle;\n",
       "    }\n",
       "\n",
       "    .dataframe tbody tr th {\n",
       "        vertical-align: top;\n",
       "    }\n",
       "\n",
       "    .dataframe thead th {\n",
       "        text-align: right;\n",
       "    }\n",
       "</style>\n",
       "<table border=\"1\" class=\"dataframe\">\n",
       "  <thead>\n",
       "    <tr style=\"text-align: right;\">\n",
       "      <th></th>\n",
       "      <th>gift_type</th>\n",
       "      <th>gift_category</th>\n",
       "      <th>gift_cluster</th>\n",
       "      <th>lsg_1</th>\n",
       "      <th>lsg_2</th>\n",
       "      <th>lsg_3</th>\n",
       "      <th>lsg_4</th>\n",
       "      <th>lsg_5</th>\n",
       "      <th>lsg_6</th>\n",
       "      <th>is_discounted</th>\n",
       "      <th>volumes</th>\n",
       "      <th>price</th>\n",
       "    </tr>\n",
       "  </thead>\n",
       "  <tbody>\n",
       "    <tr>\n",
       "      <th>count</th>\n",
       "      <td>20279.000000</td>\n",
       "      <td>20279.000000</td>\n",
       "      <td>20279.000000</td>\n",
       "      <td>20279.000000</td>\n",
       "      <td>20279.000000</td>\n",
       "      <td>20279.000000</td>\n",
       "      <td>20279.000000</td>\n",
       "      <td>20279.000000</td>\n",
       "      <td>20279.000000</td>\n",
       "      <td>20279.000000</td>\n",
       "      <td>7323.000000</td>\n",
       "      <td>20279.000000</td>\n",
       "    </tr>\n",
       "    <tr>\n",
       "      <th>mean</th>\n",
       "      <td>739.554662</td>\n",
       "      <td>394.171557</td>\n",
       "      <td>3303.358548</td>\n",
       "      <td>5314.595345</td>\n",
       "      <td>4187.653928</td>\n",
       "      <td>4866.945510</td>\n",
       "      <td>1679.152226</td>\n",
       "      <td>8.652695</td>\n",
       "      <td>1265.898171</td>\n",
       "      <td>0.229646</td>\n",
       "      <td>15.515363</td>\n",
       "      <td>143.404411</td>\n",
       "    </tr>\n",
       "    <tr>\n",
       "      <th>std</th>\n",
       "      <td>389.216989</td>\n",
       "      <td>235.077769</td>\n",
       "      <td>2541.082549</td>\n",
       "      <td>2703.317282</td>\n",
       "      <td>2274.875522</td>\n",
       "      <td>2713.856392</td>\n",
       "      <td>485.699119</td>\n",
       "      <td>2.349388</td>\n",
       "      <td>697.838495</td>\n",
       "      <td>0.420616</td>\n",
       "      <td>7.579669</td>\n",
       "      <td>267.281159</td>\n",
       "    </tr>\n",
       "    <tr>\n",
       "      <th>min</th>\n",
       "      <td>1.000000</td>\n",
       "      <td>1.000000</td>\n",
       "      <td>0.000000</td>\n",
       "      <td>0.000000</td>\n",
       "      <td>0.000000</td>\n",
       "      <td>0.000000</td>\n",
       "      <td>3.000000</td>\n",
       "      <td>0.000000</td>\n",
       "      <td>0.000000</td>\n",
       "      <td>0.000000</td>\n",
       "      <td>5.000000</td>\n",
       "      <td>0.010000</td>\n",
       "    </tr>\n",
       "    <tr>\n",
       "      <th>25%</th>\n",
       "      <td>403.000000</td>\n",
       "      <td>188.000000</td>\n",
       "      <td>587.000000</td>\n",
       "      <td>3311.000000</td>\n",
       "      <td>2251.000000</td>\n",
       "      <td>2548.000000</td>\n",
       "      <td>1801.000000</td>\n",
       "      <td>9.000000</td>\n",
       "      <td>577.500000</td>\n",
       "      <td>0.000000</td>\n",
       "      <td>9.000000</td>\n",
       "      <td>45.645000</td>\n",
       "    </tr>\n",
       "    <tr>\n",
       "      <th>50%</th>\n",
       "      <td>825.000000</td>\n",
       "      <td>433.000000</td>\n",
       "      <td>3231.000000</td>\n",
       "      <td>5520.000000</td>\n",
       "      <td>4246.000000</td>\n",
       "      <td>4839.000000</td>\n",
       "      <td>1912.000000</td>\n",
       "      <td>9.000000</td>\n",
       "      <td>1616.000000</td>\n",
       "      <td>0.000000</td>\n",
       "      <td>13.000000</td>\n",
       "      <td>75.600000</td>\n",
       "    </tr>\n",
       "    <tr>\n",
       "      <th>75%</th>\n",
       "      <td>1032.000000</td>\n",
       "      <td>534.000000</td>\n",
       "      <td>5787.000000</td>\n",
       "      <td>7535.000000</td>\n",
       "      <td>6504.500000</td>\n",
       "      <td>7387.000000</td>\n",
       "      <td>1912.000000</td>\n",
       "      <td>10.000000</td>\n",
       "      <td>1899.000000</td>\n",
       "      <td>0.000000</td>\n",
       "      <td>24.000000</td>\n",
       "      <td>126.845000</td>\n",
       "    </tr>\n",
       "    <tr>\n",
       "      <th>max</th>\n",
       "      <td>1360.000000</td>\n",
       "      <td>893.000000</td>\n",
       "      <td>7567.000000</td>\n",
       "      <td>9979.000000</td>\n",
       "      <td>7604.000000</td>\n",
       "      <td>9493.000000</td>\n",
       "      <td>2056.000000</td>\n",
       "      <td>10.000000</td>\n",
       "      <td>2065.000000</td>\n",
       "      <td>1.000000</td>\n",
       "      <td>29.000000</td>\n",
       "      <td>7010.270000</td>\n",
       "    </tr>\n",
       "  </tbody>\n",
       "</table>\n",
       "</div>"
      ],
      "text/plain": [
       "          gift_type  gift_category  gift_cluster         lsg_1         lsg_2  \\\n",
       "count  20279.000000   20279.000000  20279.000000  20279.000000  20279.000000   \n",
       "mean     739.554662     394.171557   3303.358548   5314.595345   4187.653928   \n",
       "std      389.216989     235.077769   2541.082549   2703.317282   2274.875522   \n",
       "min        1.000000       1.000000      0.000000      0.000000      0.000000   \n",
       "25%      403.000000     188.000000    587.000000   3311.000000   2251.000000   \n",
       "50%      825.000000     433.000000   3231.000000   5520.000000   4246.000000   \n",
       "75%     1032.000000     534.000000   5787.000000   7535.000000   6504.500000   \n",
       "max     1360.000000     893.000000   7567.000000   9979.000000   7604.000000   \n",
       "\n",
       "              lsg_3         lsg_4         lsg_5         lsg_6  is_discounted  \\\n",
       "count  20279.000000  20279.000000  20279.000000  20279.000000   20279.000000   \n",
       "mean    4866.945510   1679.152226      8.652695   1265.898171       0.229646   \n",
       "std     2713.856392    485.699119      2.349388    697.838495       0.420616   \n",
       "min        0.000000      3.000000      0.000000      0.000000       0.000000   \n",
       "25%     2548.000000   1801.000000      9.000000    577.500000       0.000000   \n",
       "50%     4839.000000   1912.000000      9.000000   1616.000000       0.000000   \n",
       "75%     7387.000000   1912.000000     10.000000   1899.000000       0.000000   \n",
       "max     9493.000000   2056.000000     10.000000   2065.000000       1.000000   \n",
       "\n",
       "           volumes         price  \n",
       "count  7323.000000  20279.000000  \n",
       "mean     15.515363    143.404411  \n",
       "std       7.579669    267.281159  \n",
       "min       5.000000      0.010000  \n",
       "25%       9.000000     45.645000  \n",
       "50%      13.000000     75.600000  \n",
       "75%      24.000000    126.845000  \n",
       "max      29.000000   7010.270000  "
      ]
     },
     "execution_count": 5,
     "metadata": {},
     "output_type": "execute_result"
    }
   ],
   "source": [
    "df.describe()"
   ]
  },
  {
   "cell_type": "code",
   "execution_count": 6,
   "metadata": {},
   "outputs": [],
   "source": [
    "def missingcheck(data):\n",
    "    total = data.isnull().sum().sort_values(ascending=False)\n",
    "    percent_1 = data.isnull().sum()/data.isnull().count()*100\n",
    "    percent_2 = (np.round(percent_1, 1)).sort_values(ascending=False)\n",
    "    missing_data = pd.concat([total, percent_2], axis=1, keys=['Total', '%']) #ptr\n",
    "    return missing_data\n"
   ]
  },
  {
   "cell_type": "code",
   "execution_count": 7,
   "metadata": {},
   "outputs": [
    {
     "data": {
      "text/html": [
       "<div>\n",
       "<style scoped>\n",
       "    .dataframe tbody tr th:only-of-type {\n",
       "        vertical-align: middle;\n",
       "    }\n",
       "\n",
       "    .dataframe tbody tr th {\n",
       "        vertical-align: top;\n",
       "    }\n",
       "\n",
       "    .dataframe thead th {\n",
       "        text-align: right;\n",
       "    }\n",
       "</style>\n",
       "<table border=\"1\" class=\"dataframe\">\n",
       "  <thead>\n",
       "    <tr style=\"text-align: right;\">\n",
       "      <th></th>\n",
       "      <th>Total</th>\n",
       "      <th>%</th>\n",
       "    </tr>\n",
       "  </thead>\n",
       "  <tbody>\n",
       "    <tr>\n",
       "      <th>volumes</th>\n",
       "      <td>12956</td>\n",
       "      <td>63.9</td>\n",
       "    </tr>\n",
       "    <tr>\n",
       "      <th>price</th>\n",
       "      <td>0</td>\n",
       "      <td>0.0</td>\n",
       "    </tr>\n",
       "    <tr>\n",
       "      <th>lsg_2</th>\n",
       "      <td>0</td>\n",
       "      <td>0.0</td>\n",
       "    </tr>\n",
       "    <tr>\n",
       "      <th>gift_type</th>\n",
       "      <td>0</td>\n",
       "      <td>0.0</td>\n",
       "    </tr>\n",
       "    <tr>\n",
       "      <th>gift_category</th>\n",
       "      <td>0</td>\n",
       "      <td>0.0</td>\n",
       "    </tr>\n",
       "    <tr>\n",
       "      <th>gift_cluster</th>\n",
       "      <td>0</td>\n",
       "      <td>0.0</td>\n",
       "    </tr>\n",
       "    <tr>\n",
       "      <th>instock_date</th>\n",
       "      <td>0</td>\n",
       "      <td>0.0</td>\n",
       "    </tr>\n",
       "    <tr>\n",
       "      <th>stock_update_date</th>\n",
       "      <td>0</td>\n",
       "      <td>0.0</td>\n",
       "    </tr>\n",
       "    <tr>\n",
       "      <th>lsg_1</th>\n",
       "      <td>0</td>\n",
       "      <td>0.0</td>\n",
       "    </tr>\n",
       "    <tr>\n",
       "      <th>lsg_3</th>\n",
       "      <td>0</td>\n",
       "      <td>0.0</td>\n",
       "    </tr>\n",
       "    <tr>\n",
       "      <th>lsg_4</th>\n",
       "      <td>0</td>\n",
       "      <td>0.0</td>\n",
       "    </tr>\n",
       "    <tr>\n",
       "      <th>lsg_5</th>\n",
       "      <td>0</td>\n",
       "      <td>0.0</td>\n",
       "    </tr>\n",
       "    <tr>\n",
       "      <th>lsg_6</th>\n",
       "      <td>0</td>\n",
       "      <td>0.0</td>\n",
       "    </tr>\n",
       "    <tr>\n",
       "      <th>uk_date1</th>\n",
       "      <td>0</td>\n",
       "      <td>0.0</td>\n",
       "    </tr>\n",
       "    <tr>\n",
       "      <th>uk_date2</th>\n",
       "      <td>0</td>\n",
       "      <td>0.0</td>\n",
       "    </tr>\n",
       "    <tr>\n",
       "      <th>is_discounted</th>\n",
       "      <td>0</td>\n",
       "      <td>0.0</td>\n",
       "    </tr>\n",
       "    <tr>\n",
       "      <th>gift_id</th>\n",
       "      <td>0</td>\n",
       "      <td>0.0</td>\n",
       "    </tr>\n",
       "  </tbody>\n",
       "</table>\n",
       "</div>"
      ],
      "text/plain": [
       "                   Total     %\n",
       "volumes            12956  63.9\n",
       "price                  0   0.0\n",
       "lsg_2                  0   0.0\n",
       "gift_type              0   0.0\n",
       "gift_category          0   0.0\n",
       "gift_cluster           0   0.0\n",
       "instock_date           0   0.0\n",
       "stock_update_date      0   0.0\n",
       "lsg_1                  0   0.0\n",
       "lsg_3                  0   0.0\n",
       "lsg_4                  0   0.0\n",
       "lsg_5                  0   0.0\n",
       "lsg_6                  0   0.0\n",
       "uk_date1               0   0.0\n",
       "uk_date2               0   0.0\n",
       "is_discounted          0   0.0\n",
       "gift_id                0   0.0"
      ]
     },
     "execution_count": 7,
     "metadata": {},
     "output_type": "execute_result"
    }
   ],
   "source": [
    "missingcheck(df)"
   ]
  },
  {
   "cell_type": "code",
   "execution_count": 8,
   "metadata": {},
   "outputs": [],
   "source": [
    "#dff = df.drop( ['volumes'],axis =1)\n",
    "dff = df.fillna(0)"
   ]
  },
  {
   "cell_type": "code",
   "execution_count": 9,
   "metadata": {},
   "outputs": [],
   "source": [
    "dff['instock_date'] = pd.to_datetime(dff['instock_date'] ,errors='coerce')\n",
    "dff['justinstock_date'] = dff['instock_date'].dt.date"
   ]
  },
  {
   "cell_type": "code",
   "execution_count": 10,
   "metadata": {},
   "outputs": [],
   "source": [
    "dff['stock_update_date'] = pd.to_datetime(dff['stock_update_date'] ,errors='coerce')\n",
    "dff['juststock_update_date'] = dff['stock_update_date'].dt.date"
   ]
  },
  {
   "cell_type": "code",
   "execution_count": 11,
   "metadata": {},
   "outputs": [],
   "source": [
    "dff['uk_date1'] = pd.to_datetime(dff['uk_date1'] ,errors='coerce')\n",
    "dff['justuk_date1'] = dff['uk_date1'].dt.date"
   ]
  },
  {
   "cell_type": "code",
   "execution_count": 12,
   "metadata": {},
   "outputs": [],
   "source": [
    "dff['uk_date2'] = pd.to_datetime(dff['uk_date2'] ,errors='coerce')\n",
    "dff['justuk_date2'] = dff['uk_date2'].dt.date"
   ]
  },
  {
   "cell_type": "code",
   "execution_count": 13,
   "metadata": {},
   "outputs": [],
   "source": [
    "# no of days gift was in stock"
   ]
  },
  {
   "cell_type": "code",
   "execution_count": 14,
   "metadata": {},
   "outputs": [],
   "source": [
    "dff['DaysStockUpdate'] = (dff['stock_update_date']- dff['instock_date']).dt.days"
   ]
  },
  {
   "cell_type": "markdown",
   "metadata": {},
   "source": []
  },
  {
   "cell_type": "code",
   "execution_count": 15,
   "metadata": {},
   "outputs": [],
   "source": [
    "#no of days between order1 and order2"
   ]
  },
  {
   "cell_type": "code",
   "execution_count": 16,
   "metadata": {},
   "outputs": [],
   "source": [
    "dff['buyer12diff'] = (dff['uk_date1']-dff['uk_date2']).dt.days\n",
    "dff['buyer12diff'] = np.absolute(dff['buyer12diff'])"
   ]
  },
  {
   "cell_type": "code",
   "execution_count": 17,
   "metadata": {},
   "outputs": [],
   "source": [
    "# at order1 time was gift in stock"
   ]
  },
  {
   "cell_type": "code",
   "execution_count": 18,
   "metadata": {},
   "outputs": [],
   "source": [
    "dff['buy1buytime'] = (dff['uk_date1'] -dff['instock_date']).dt.days"
   ]
  },
  {
   "cell_type": "code",
   "execution_count": 19,
   "metadata": {},
   "outputs": [
    {
     "data": {
      "text/plain": [
       "12967     -5\n",
       "11146     -5\n",
       "18180     -5\n",
       "6231      -5\n",
       "10812     -5\n",
       "        ... \n",
       "47       881\n",
       "12       897\n",
       "8        986\n",
       "3        989\n",
       "4        989\n",
       "Name: buy1buytime, Length: 20279, dtype: int64"
      ]
     },
     "execution_count": 19,
     "metadata": {},
     "output_type": "execute_result"
    }
   ],
   "source": [
    "dff['buy1buytime'].sort_values()"
   ]
  },
  {
   "cell_type": "code",
   "execution_count": 20,
   "metadata": {},
   "outputs": [],
   "source": [
    "# order 2 in stock"
   ]
  },
  {
   "cell_type": "code",
   "execution_count": 21,
   "metadata": {},
   "outputs": [],
   "source": [
    "dff['buy2buytime'] = (dff['uk_date2'] -dff['instock_date']).dt.days"
   ]
  },
  {
   "cell_type": "code",
   "execution_count": 22,
   "metadata": {},
   "outputs": [
    {
     "data": {
      "text/plain": [
       "16939   -585\n",
       "17729   -583\n",
       "18807   -582\n",
       "18470   -579\n",
       "19393   -579\n",
       "        ... \n",
       "61       871\n",
       "47       877\n",
       "12       892\n",
       "4        987\n",
       "3        987\n",
       "Name: buy2buytime, Length: 20279, dtype: int64"
      ]
     },
     "execution_count": 22,
     "metadata": {},
     "output_type": "execute_result"
    }
   ],
   "source": [
    "dff['buy2buytime'].sort_values()"
   ]
  },
  {
   "cell_type": "code",
   "execution_count": 23,
   "metadata": {},
   "outputs": [],
   "source": [
    "# stockupdate date differece "
   ]
  },
  {
   "cell_type": "code",
   "execution_count": 24,
   "metadata": {},
   "outputs": [],
   "source": [
    "dff['stockupdatediff1'] = (dff['stock_update_date'] - dff['uk_date1']).dt.days"
   ]
  },
  {
   "cell_type": "code",
   "execution_count": 25,
   "metadata": {},
   "outputs": [],
   "source": [
    "dff['stockupdatediff2'] = (dff['stock_update_date'] - dff['uk_date2']).dt.days"
   ]
  },
  {
   "cell_type": "code",
   "execution_count": 26,
   "metadata": {},
   "outputs": [],
   "source": [
    "def add_datepart(df, fldname, drop=True):\n",
    "    fld = df[fldname]\n",
    "    if not np.issubdtype(fld.dtype, np.datetime64):\n",
    "        df[fldname] = fld = pd.to_datetime(fld, infer_datetime_format=True)\n",
    "    targ_pre = re.sub('[Dd]ate$', '', fldname)\n",
    "    \n",
    "#     for n in ('Year', 'Month', 'Week', 'Day', 'Dayofweek', 'Dayofyear',\n",
    "#             'Is_month_end', 'Is_month_start', 'Is_quarter_end', 'Is_quarter_start', 'Is_year_end', 'Is_year_start'):\n",
    "    \n",
    "    for n in ('Year', 'Month', 'Week', 'Day','Hour', 'Dayofweek', 'Dayofyear',\n",
    "            'Is_month_end', 'Is_month_start', 'Is_quarter_end', 'Is_quarter_start', 'Is_year_end', 'Is_year_start'):\n",
    "        df[targ_pre+n] = getattr(fld.dt,n.lower())\n",
    "    df[targ_pre+'Elapsed'] = fld.astype(np.int64) // 10**9\n",
    "    if drop: df.drop(fldname, axis=1, inplace=True)"
   ]
  },
  {
   "cell_type": "code",
   "execution_count": 27,
   "metadata": {},
   "outputs": [],
   "source": [
    "add_datepart(dff, 'instock_date',drop = False)"
   ]
  },
  {
   "cell_type": "code",
   "execution_count": 28,
   "metadata": {},
   "outputs": [],
   "source": [
    "add_datepart(dff, 'stock_update_date',drop =False)"
   ]
  },
  {
   "cell_type": "code",
   "execution_count": 29,
   "metadata": {},
   "outputs": [],
   "source": [
    "add_datepart(dff, 'uk_date1', drop=False)"
   ]
  },
  {
   "cell_type": "code",
   "execution_count": 30,
   "metadata": {},
   "outputs": [],
   "source": [
    "add_datepart(dff, 'uk_date2', drop= False)"
   ]
  },
  {
   "cell_type": "code",
   "execution_count": 31,
   "metadata": {},
   "outputs": [
    {
     "data": {
      "text/plain": [
       "Timestamp('2016-11-12 13:48:30')"
      ]
     },
     "execution_count": 31,
     "metadata": {},
     "output_type": "execute_result"
    }
   ],
   "source": [
    "dff['instock_date'].max()"
   ]
  },
  {
   "cell_type": "code",
   "execution_count": 32,
   "metadata": {},
   "outputs": [
    {
     "data": {
      "text/plain": [
       "Timestamp('2017-04-21 01:49:50')"
      ]
     },
     "execution_count": 32,
     "metadata": {},
     "output_type": "execute_result"
    }
   ],
   "source": [
    "dff['stock_update_date'].max()"
   ]
  },
  {
   "cell_type": "code",
   "execution_count": 33,
   "metadata": {},
   "outputs": [
    {
     "data": {
      "text/plain": [
       "Timestamp('2017-04-17 16:14:57.904000')"
      ]
     },
     "execution_count": 33,
     "metadata": {},
     "output_type": "execute_result"
    }
   ],
   "source": [
    "dff['uk_date2'].max()"
   ]
  },
  {
   "cell_type": "code",
   "execution_count": null,
   "metadata": {},
   "outputs": [],
   "source": []
  },
  {
   "cell_type": "code",
   "execution_count": 34,
   "metadata": {},
   "outputs": [],
   "source": [
    "import holidays"
   ]
  },
  {
   "cell_type": "code",
   "execution_count": 35,
   "metadata": {},
   "outputs": [],
   "source": [
    "### was it a holiday or not instockdate, stockupdateday,ukdate1,ukdate2\n",
    "time = pd.DataFrame()"
   ]
  },
  {
   "cell_type": "code",
   "execution_count": 36,
   "metadata": {},
   "outputs": [],
   "source": [
    "# start = dff['instock_date'].min()\n",
    "\n",
    "# end = dff['stock_update_date'].max()\n",
    "\n",
    "# time['date'] = pd.date_range(start,end)"
   ]
  },
  {
   "cell_type": "code",
   "execution_count": 37,
   "metadata": {},
   "outputs": [],
   "source": [
    "# uk_holidays=[]\n",
    "# for holiday in holidays.UK(years=[2014,2015,2016]).items():\n",
    "#     uk_holidays.append(str(holiday[0]))"
   ]
  },
  {
   "cell_type": "code",
   "execution_count": 38,
   "metadata": {
    "scrolled": true
   },
   "outputs": [],
   "source": [
    "#uk_holidays"
   ]
  },
  {
   "cell_type": "code",
   "execution_count": 39,
   "metadata": {},
   "outputs": [],
   "source": [
    "# dff['Isholidayinstock']= [ 1 if str(val).split()[0] in uk_holidays else 0 for val in dff['instock_date']]\n",
    "# dff['Isholidaystockupdate']= [ 1 if str(val).split()[0] in uk_holidays else 0 for val in dff['stock_update_date']]\n",
    "# dff['IsholidayUkdate1']= [ 1 if str(val).split()[0] in uk_holidays else 0 for val in dff['uk_date1']]\n",
    "# dff['IsholidayUkdate2']= [ 1 if str(val).split()[0] in uk_holidays else 0 for val in dff['uk_date2']]"
   ]
  },
  {
   "cell_type": "code",
   "execution_count": 40,
   "metadata": {},
   "outputs": [],
   "source": [
    "####### grace period dates ######"
   ]
  },
  {
   "cell_type": "code",
   "execution_count": 41,
   "metadata": {},
   "outputs": [],
   "source": [
    "from datetime import datetime, timedelta"
   ]
  },
  {
   "cell_type": "code",
   "execution_count": 42,
   "metadata": {},
   "outputs": [],
   "source": [
    "uk_graceholiday=[]\n",
    "for holiday in holidays.UK(years=[2014,2015,2016]).items():\n",
    "    uk_graceholiday.append(holiday[0])"
   ]
  },
  {
   "cell_type": "code",
   "execution_count": 43,
   "metadata": {},
   "outputs": [],
   "source": [
    "graceondate=[]\n",
    "for i in uk_graceholiday:\n",
    "    twodayago = i - timedelta(days = 3)\n",
    "    twodayafter = i + timedelta(days = 3)\n",
    "    for date in pd.date_range(twodayago,twodayafter):\n",
    "        graceondate.append((str(date).split()[0]))\n",
    "    "
   ]
  },
  {
   "cell_type": "code",
   "execution_count": 44,
   "metadata": {},
   "outputs": [],
   "source": [
    "uk_graceperiod = list(set(graceondate))"
   ]
  },
  {
   "cell_type": "code",
   "execution_count": null,
   "metadata": {},
   "outputs": [],
   "source": []
  },
  {
   "cell_type": "code",
   "execution_count": 45,
   "metadata": {},
   "outputs": [],
   "source": [
    "dff['Isholidayinstockgrceperiod']= [ 1 if str(val).split()[0] in uk_graceperiod else 0 for val in dff['instock_date']]\n",
    "dff['Isholidaystock_update_dategrceperiod']= [ 1 if str(val).split()[0] in uk_graceperiod else 0 for val in dff['stock_update_date']]\n",
    "dff['IsholidayUk_date1grceperiod']= [ 1 if str(val).split()[0] in uk_graceperiod else 0 for val in dff['uk_date1']]\n",
    "dff['IsholidayUk_date2grceperiod']= [ 1 if str(val).split()[0] in uk_graceperiod else 0 for val in dff['uk_date2']]\n"
   ]
  },
  {
   "cell_type": "code",
   "execution_count": 46,
   "metadata": {},
   "outputs": [],
   "source": [
    "# interaction variables "
   ]
  },
  {
   "cell_type": "code",
   "execution_count": 47,
   "metadata": {},
   "outputs": [],
   "source": [
    "def createIntercations(data,cat_features):\n",
    "    import itertools\n",
    "    print(f\"Creating features on {cat_features}, with combination 2 for training data /n\")\n",
    "    interactionstrain = pd.DataFrame(index=data.index)\n",
    "    \n",
    "    for col1 ,col2 in  itertools.combinations(cat_features,2):   \n",
    "        newcolname = col1 + \"_\" + col2 #+\"_\" + col3\n",
    "        new_values = data[col1].map(str) + \"_\" + data[col2].map(str) # + \"_\" + data[col3].map(str)\n",
    "        interactionstrain[newcolname] = new_values\n",
    "\n",
    "    print(interactionstrain)\n",
    "    data_df = data.join(interactionstrain)\n",
    "    \n",
    "    \n",
    "    print(data_df.shape)\n",
    "    \n",
    "    \n",
    "    return data_df\n"
   ]
  },
  {
   "cell_type": "code",
   "execution_count": 48,
   "metadata": {},
   "outputs": [],
   "source": [
    "def createIntercations2(data,cat_features):\n",
    "    import itertools\n",
    "    print(f\"Creating features on {cat_features}, with combination 3 for training data /n\")\n",
    "    interactionstrain = pd.DataFrame(index=data.index)\n",
    "    \n",
    "    for col1 ,col2,col3 in  itertools.combinations(cat_features,3):   \n",
    "        newcolname = col1 + \"_\" + col2 +\"_\" + col3\n",
    "        new_values = data[col1].map(str) + \"_\" + data[col2].map(str)  + \"_\" + data[col3].map(str)\n",
    "        interactionstrain[newcolname] = new_values\n",
    "\n",
    "    print(interactionstrain)\n",
    "    data_df = data.join(interactionstrain)\n",
    "    \n",
    "    \n",
    "    print(data_df.shape)\n",
    "    \n",
    "    \n",
    "    return data_df\n"
   ]
  },
  {
   "cell_type": "code",
   "execution_count": 49,
   "metadata": {},
   "outputs": [],
   "source": [
    "# def createlogfestures(data,features):\n",
    "  \n",
    "#      cols = features\n",
    "#      interactionstrain = pd.DataFrame(index=data.index)\n",
    "        \n",
    "#      for col  in cols:   \n",
    "#             newcolname = col + \"_log\"   \n",
    "#             new_values = np.log1p(data[col])\n",
    "#             interactionstrain[newcolname] = new_values\n",
    "\n",
    "  \n",
    "\n",
    "#      data_df = data.join(interactionstrain)\n",
    "  \n",
    "#      print(data_df.shape)\n",
    "\n",
    "\n",
    "#      return data_df \n"
   ]
  },
  {
   "cell_type": "code",
   "execution_count": 50,
   "metadata": {},
   "outputs": [],
   "source": [
    "# def createsqrtfeatures(train,test,features):\n",
    "    \n",
    "\n",
    "#   cols = features\n",
    "#   interactionstrain = pd.DataFrame(index=train.index)\n",
    "#   interactionstest = pd.DataFrame(index=test.index)\n",
    "  \n",
    "#   for col  in cols:   \n",
    "#         newcolname = col + \"_sqrt\"   \n",
    "#         new_values = np.sqrt(train[col])\n",
    "#         interactionstrain[newcolname] = new_values\n",
    "\n",
    "#   for col  in cols:   \n",
    "#         newcolname = col + \"_sqrt\"   \n",
    "#         new_values = np.sqrt(test[col])\n",
    "#         interactionstest[newcolname] = new_values\n",
    "\n",
    "\n",
    "#   train_df = train.join(interactionstrain)\n",
    "#   test_df = test.join(interactionstest)\n",
    "\n",
    "#   print(train_df.shape,test_df.shape)\n",
    "\n",
    "\n",
    "#   return train_df ,test_df\n"
   ]
  },
  {
   "cell_type": "code",
   "execution_count": 51,
   "metadata": {},
   "outputs": [
    {
     "name": "stdout",
     "output_type": "stream",
     "text": [
      "Creating features on ['gift_type', 'gift_category', 'gift_cluster'], with combination 2 for training data /n\n",
      "      gift_type_gift_category gift_type_gift_cluster  \\\n",
      "0                      61_534                61_3942   \n",
      "1                      61_534                61_3942   \n",
      "2                     584_262                  584_0   \n",
      "3                      61_534                61_3942   \n",
      "4                      61_534                61_3942   \n",
      "...                       ...                    ...   \n",
      "20274                 105_704               105_6448   \n",
      "20275                1220_526               1220_817   \n",
      "20276                 509_705                509_821   \n",
      "20277                 682_213               682_5620   \n",
      "20278                1061_212              1061_4987   \n",
      "\n",
      "      gift_category_gift_cluster  \n",
      "0                       534_3942  \n",
      "1                       534_3942  \n",
      "2                          262_0  \n",
      "3                       534_3942  \n",
      "4                       534_3942  \n",
      "...                          ...  \n",
      "20274                   704_6448  \n",
      "20275                    526_817  \n",
      "20276                    705_821  \n",
      "20277                   213_5620  \n",
      "20278                   212_4987  \n",
      "\n",
      "[20279 rows x 3 columns]\n",
      "(20279, 90)\n"
     ]
    }
   ],
   "source": [
    "interactiondff1 = createIntercations(dff,['gift_type','gift_category','gift_cluster'])"
   ]
  },
  {
   "cell_type": "code",
   "execution_count": 52,
   "metadata": {},
   "outputs": [
    {
     "name": "stdout",
     "output_type": "stream",
     "text": [
      "Creating features on ['gift_type', 'gift_category', 'gift_cluster'], with combination 3 for training data /n\n",
      "      gift_type_gift_category_gift_cluster\n",
      "0                              61_534_3942\n",
      "1                              61_534_3942\n",
      "2                                584_262_0\n",
      "3                              61_534_3942\n",
      "4                              61_534_3942\n",
      "...                                    ...\n",
      "20274                         105_704_6448\n",
      "20275                         1220_526_817\n",
      "20276                          509_705_821\n",
      "20277                         682_213_5620\n",
      "20278                        1061_212_4987\n",
      "\n",
      "[20279 rows x 1 columns]\n",
      "(20279, 91)\n"
     ]
    }
   ],
   "source": [
    "interactiondff2 = createIntercations2(interactiondff1,['gift_type','gift_category','gift_cluster'])"
   ]
  },
  {
   "cell_type": "code",
   "execution_count": 53,
   "metadata": {},
   "outputs": [
    {
     "data": {
      "text/html": [
       "<div>\n",
       "<style scoped>\n",
       "    .dataframe tbody tr th:only-of-type {\n",
       "        vertical-align: middle;\n",
       "    }\n",
       "\n",
       "    .dataframe tbody tr th {\n",
       "        vertical-align: top;\n",
       "    }\n",
       "\n",
       "    .dataframe thead th {\n",
       "        text-align: right;\n",
       "    }\n",
       "</style>\n",
       "<table border=\"1\" class=\"dataframe\">\n",
       "  <thead>\n",
       "    <tr style=\"text-align: right;\">\n",
       "      <th></th>\n",
       "      <th>gift_id</th>\n",
       "      <th>gift_type</th>\n",
       "      <th>gift_category</th>\n",
       "      <th>gift_cluster</th>\n",
       "      <th>instock_date</th>\n",
       "      <th>stock_update_date</th>\n",
       "      <th>lsg_1</th>\n",
       "      <th>lsg_2</th>\n",
       "      <th>lsg_3</th>\n",
       "      <th>lsg_4</th>\n",
       "      <th>...</th>\n",
       "      <th>uk_date2Is_year_start</th>\n",
       "      <th>uk_date2Elapsed</th>\n",
       "      <th>Isholidayinstockgrceperiod</th>\n",
       "      <th>Isholidaystock_update_dategrceperiod</th>\n",
       "      <th>IsholidayUk_date1grceperiod</th>\n",
       "      <th>IsholidayUk_date2grceperiod</th>\n",
       "      <th>gift_type_gift_category</th>\n",
       "      <th>gift_type_gift_cluster</th>\n",
       "      <th>gift_category_gift_cluster</th>\n",
       "      <th>gift_type_gift_category_gift_cluster</th>\n",
       "    </tr>\n",
       "  </thead>\n",
       "  <tbody>\n",
       "    <tr>\n",
       "      <th>0</th>\n",
       "      <td>GF_11156</td>\n",
       "      <td>61</td>\n",
       "      <td>534</td>\n",
       "      <td>3942</td>\n",
       "      <td>2014-02-21 05:07:06</td>\n",
       "      <td>2016-11-09 15:49:51</td>\n",
       "      <td>3377</td>\n",
       "      <td>5221</td>\n",
       "      <td>504</td>\n",
       "      <td>1912</td>\n",
       "      <td>...</td>\n",
       "      <td>False</td>\n",
       "      <td>1393225626</td>\n",
       "      <td>0</td>\n",
       "      <td>0</td>\n",
       "      <td>0</td>\n",
       "      <td>0</td>\n",
       "      <td>61_534</td>\n",
       "      <td>61_3942</td>\n",
       "      <td>534_3942</td>\n",
       "      <td>61_534_3942</td>\n",
       "    </tr>\n",
       "    <tr>\n",
       "      <th>1</th>\n",
       "      <td>GF_11157</td>\n",
       "      <td>61</td>\n",
       "      <td>534</td>\n",
       "      <td>3942</td>\n",
       "      <td>2014-02-21 06:07:06</td>\n",
       "      <td>2016-11-11 13:49:51</td>\n",
       "      <td>3377</td>\n",
       "      <td>5221</td>\n",
       "      <td>504</td>\n",
       "      <td>1912</td>\n",
       "      <td>...</td>\n",
       "      <td>False</td>\n",
       "      <td>1393222026</td>\n",
       "      <td>0</td>\n",
       "      <td>0</td>\n",
       "      <td>0</td>\n",
       "      <td>0</td>\n",
       "      <td>61_534</td>\n",
       "      <td>61_3942</td>\n",
       "      <td>534_3942</td>\n",
       "      <td>61_534_3942</td>\n",
       "    </tr>\n",
       "    <tr>\n",
       "      <th>2</th>\n",
       "      <td>GF_15689</td>\n",
       "      <td>584</td>\n",
       "      <td>262</td>\n",
       "      <td>0</td>\n",
       "      <td>2014-02-21 09:30:21</td>\n",
       "      <td>2016-03-24 14:46:18</td>\n",
       "      <td>5290</td>\n",
       "      <td>1579</td>\n",
       "      <td>3203</td>\n",
       "      <td>1912</td>\n",
       "      <td>...</td>\n",
       "      <td>False</td>\n",
       "      <td>1458266400</td>\n",
       "      <td>0</td>\n",
       "      <td>1</td>\n",
       "      <td>0</td>\n",
       "      <td>1</td>\n",
       "      <td>584_262</td>\n",
       "      <td>584_0</td>\n",
       "      <td>262_0</td>\n",
       "      <td>584_262_0</td>\n",
       "    </tr>\n",
       "    <tr>\n",
       "      <th>3</th>\n",
       "      <td>GF_11155</td>\n",
       "      <td>61</td>\n",
       "      <td>534</td>\n",
       "      <td>3942</td>\n",
       "      <td>2014-02-22 05:07:06</td>\n",
       "      <td>2016-11-10 16:49:51</td>\n",
       "      <td>3377</td>\n",
       "      <td>5221</td>\n",
       "      <td>504</td>\n",
       "      <td>1912</td>\n",
       "      <td>...</td>\n",
       "      <td>False</td>\n",
       "      <td>1478404800</td>\n",
       "      <td>0</td>\n",
       "      <td>0</td>\n",
       "      <td>0</td>\n",
       "      <td>0</td>\n",
       "      <td>61_534</td>\n",
       "      <td>61_3942</td>\n",
       "      <td>534_3942</td>\n",
       "      <td>61_534_3942</td>\n",
       "    </tr>\n",
       "    <tr>\n",
       "      <th>4</th>\n",
       "      <td>GF_11158</td>\n",
       "      <td>61</td>\n",
       "      <td>534</td>\n",
       "      <td>3942</td>\n",
       "      <td>2014-02-22 07:07:06</td>\n",
       "      <td>2016-11-10 13:49:51</td>\n",
       "      <td>3377</td>\n",
       "      <td>5221</td>\n",
       "      <td>504</td>\n",
       "      <td>1912</td>\n",
       "      <td>...</td>\n",
       "      <td>False</td>\n",
       "      <td>1478394000</td>\n",
       "      <td>0</td>\n",
       "      <td>0</td>\n",
       "      <td>0</td>\n",
       "      <td>0</td>\n",
       "      <td>61_534</td>\n",
       "      <td>61_3942</td>\n",
       "      <td>534_3942</td>\n",
       "      <td>61_534_3942</td>\n",
       "    </tr>\n",
       "  </tbody>\n",
       "</table>\n",
       "<p>5 rows × 91 columns</p>\n",
       "</div>"
      ],
      "text/plain": [
       "    gift_id  gift_type  gift_category  gift_cluster        instock_date  \\\n",
       "0  GF_11156         61            534          3942 2014-02-21 05:07:06   \n",
       "1  GF_11157         61            534          3942 2014-02-21 06:07:06   \n",
       "2  GF_15689        584            262             0 2014-02-21 09:30:21   \n",
       "3  GF_11155         61            534          3942 2014-02-22 05:07:06   \n",
       "4  GF_11158         61            534          3942 2014-02-22 07:07:06   \n",
       "\n",
       "    stock_update_date  lsg_1  lsg_2  lsg_3  lsg_4  ...  uk_date2Is_year_start  \\\n",
       "0 2016-11-09 15:49:51   3377   5221    504   1912  ...                  False   \n",
       "1 2016-11-11 13:49:51   3377   5221    504   1912  ...                  False   \n",
       "2 2016-03-24 14:46:18   5290   1579   3203   1912  ...                  False   \n",
       "3 2016-11-10 16:49:51   3377   5221    504   1912  ...                  False   \n",
       "4 2016-11-10 13:49:51   3377   5221    504   1912  ...                  False   \n",
       "\n",
       "   uk_date2Elapsed Isholidayinstockgrceperiod  \\\n",
       "0       1393225626                          0   \n",
       "1       1393222026                          0   \n",
       "2       1458266400                          0   \n",
       "3       1478404800                          0   \n",
       "4       1478394000                          0   \n",
       "\n",
       "  Isholidaystock_update_dategrceperiod  IsholidayUk_date1grceperiod  \\\n",
       "0                                    0                            0   \n",
       "1                                    0                            0   \n",
       "2                                    1                            0   \n",
       "3                                    0                            0   \n",
       "4                                    0                            0   \n",
       "\n",
       "   IsholidayUk_date2grceperiod  gift_type_gift_category  \\\n",
       "0                            0                   61_534   \n",
       "1                            0                   61_534   \n",
       "2                            1                  584_262   \n",
       "3                            0                   61_534   \n",
       "4                            0                   61_534   \n",
       "\n",
       "  gift_type_gift_cluster gift_category_gift_cluster  \\\n",
       "0                61_3942                   534_3942   \n",
       "1                61_3942                   534_3942   \n",
       "2                  584_0                      262_0   \n",
       "3                61_3942                   534_3942   \n",
       "4                61_3942                   534_3942   \n",
       "\n",
       "  gift_type_gift_category_gift_cluster  \n",
       "0                          61_534_3942  \n",
       "1                          61_534_3942  \n",
       "2                            584_262_0  \n",
       "3                          61_534_3942  \n",
       "4                          61_534_3942  \n",
       "\n",
       "[5 rows x 91 columns]"
      ]
     },
     "execution_count": 53,
     "metadata": {},
     "output_type": "execute_result"
    }
   ],
   "source": [
    "interactiondff2.head()"
   ]
  },
  {
   "cell_type": "code",
   "execution_count": 54,
   "metadata": {},
   "outputs": [],
   "source": [
    "# import matplotlib.pyplot as plt\n",
    "# interactiondff2.boxplot()"
   ]
  },
  {
   "cell_type": "code",
   "execution_count": 55,
   "metadata": {},
   "outputs": [
    {
     "name": "stdout",
     "output_type": "stream",
     "text": [
      "Creating features on ['lsg_1', 'lsg_2', 'lsg_3', 'lsg_4', 'lsg_5', 'lsg_6'], with combination 2 for training data /n\n",
      "      lsg_1_lsg_2 lsg_1_lsg_3 lsg_1_lsg_4 lsg_1_lsg_5 lsg_1_lsg_6 lsg_2_lsg_3  \\\n",
      "0       3377_5221    3377_504   3377_1912     3377_10    3377_554    5221_504   \n",
      "1       3377_5221    3377_504   3377_1912     3377_10    3377_554    5221_504   \n",
      "2       5290_1579   5290_3203   5290_1912      5290_9   5290_1578   1579_3203   \n",
      "3       3377_5221    3377_504   3377_1912     3377_10    3377_554    5221_504   \n",
      "4       3377_5221    3377_504   3377_1912      3377_9    3377_554    5221_504   \n",
      "...           ...         ...         ...         ...         ...         ...   \n",
      "20274   2055_6883    2055_995   2055_1912     2055_10   2055_1899    6883_995   \n",
      "20275   8323_6753   8323_6706   8323_1912     8323_10   8323_1899   6753_6706   \n",
      "20276   2826_4009   2826_2912   2826_1912     2826_10   2826_1451   4009_2912   \n",
      "20277   2089_6883   2089_3607   2089_1912     2089_10    2089_822   6883_3607   \n",
      "20278    898_1814    898_6109    898_1912      898_10    898_1899   1814_6109   \n",
      "\n",
      "      lsg_2_lsg_4 lsg_2_lsg_5 lsg_2_lsg_6 lsg_3_lsg_4 lsg_3_lsg_5 lsg_3_lsg_6  \\\n",
      "0       5221_1912     5221_10    5221_554    504_1912      504_10     504_554   \n",
      "1       5221_1912     5221_10    5221_554    504_1912      504_10     504_554   \n",
      "2       1579_1912      1579_9   1579_1578   3203_1912      3203_9   3203_1578   \n",
      "3       5221_1912     5221_10    5221_554    504_1912      504_10     504_554   \n",
      "4       5221_1912      5221_9    5221_554    504_1912       504_9     504_554   \n",
      "...           ...         ...         ...         ...         ...         ...   \n",
      "20274   6883_1912     6883_10   6883_1899    995_1912      995_10    995_1899   \n",
      "20275   6753_1912     6753_10   6753_1899   6706_1912     6706_10   6706_1899   \n",
      "20276   4009_1912     4009_10   4009_1451   2912_1912     2912_10   2912_1451   \n",
      "20277   6883_1912     6883_10    6883_822   3607_1912     3607_10    3607_822   \n",
      "20278   1814_1912     1814_10   1814_1899   6109_1912     6109_10   6109_1899   \n",
      "\n",
      "      lsg_4_lsg_5 lsg_4_lsg_6 lsg_5_lsg_6  \n",
      "0         1912_10    1912_554      10_554  \n",
      "1         1912_10    1912_554      10_554  \n",
      "2          1912_9   1912_1578      9_1578  \n",
      "3         1912_10    1912_554      10_554  \n",
      "4          1912_9    1912_554       9_554  \n",
      "...           ...         ...         ...  \n",
      "20274     1912_10   1912_1899     10_1899  \n",
      "20275     1912_10   1912_1899     10_1899  \n",
      "20276     1912_10   1912_1451     10_1451  \n",
      "20277     1912_10    1912_822      10_822  \n",
      "20278     1912_10   1912_1899     10_1899  \n",
      "\n",
      "[20279 rows x 15 columns]\n",
      "(20279, 106)\n"
     ]
    }
   ],
   "source": [
    "interactiondff3 = createIntercations(interactiondff2,['lsg_1','lsg_2','lsg_3','lsg_4','lsg_5','lsg_6'])"
   ]
  },
  {
   "cell_type": "code",
   "execution_count": null,
   "metadata": {},
   "outputs": [],
   "source": []
  },
  {
   "cell_type": "code",
   "execution_count": 56,
   "metadata": {},
   "outputs": [],
   "source": [
    "class LabelEncoderExt(object):\n",
    "    def __init__(self):\n",
    "        \"\"\"\n",
    "        It differs from LabelEncoder by handling new classes and providing a value for it [Unknown]\n",
    "        Unknown will be added in fit and transform will take care of new item. It gives unknown class id\n",
    "        \"\"\"\n",
    "        from sklearn.preprocessing import LabelEncoder\n",
    "\n",
    "        self.label_encoder = LabelEncoder()\n",
    "        # self.classes_ = self.label_encoder.classes_\n",
    "\n",
    "    def fit(self, data_list):\n",
    "        \"\"\"\n",
    "        This will fit the encoder for all the unique values and introduce unknown value\n",
    "        :param data_list: A list of string\n",
    "        :return: self\n",
    "        \"\"\"\n",
    "        self.label_encoder = self.label_encoder.fit(list(data_list) + ['Unknown'])\n",
    "        self.classes_ = self.label_encoder.classes_\n",
    "\n",
    "        return self\n",
    "\n",
    "    def transform(self, data_list):\n",
    "        \"\"\"\n",
    "        This will transform the data_list to id list where the new values get assigned to Unknown class\n",
    "        :param data_list:\n",
    "        :return:\n",
    "        \"\"\"\n",
    "        new_data_list = list(data_list)\n",
    "        for unique_item in np.unique(data_list):\n",
    "            if unique_item not in self.label_encoder.classes_:\n",
    "                new_data_list = ['Unknown' if x==unique_item else x for x in new_data_list]\n",
    "\n",
    "        return self.label_encoder.transform(new_data_list)\n"
   ]
  },
  {
   "cell_type": "code",
   "execution_count": 57,
   "metadata": {},
   "outputs": [],
   "source": [
    "def catVar2(data):\n",
    "    categorical_colsT2 = [cname for cname in data.columns if data[cname].dtype == \"object\"]\n",
    "    return categorical_colsT2\n"
   ]
  },
  {
   "cell_type": "code",
   "execution_count": 58,
   "metadata": {},
   "outputs": [],
   "source": [
    "def robustlabelencoder(train,test):\n",
    "    from sklearn.preprocessing import LabelEncoder\n",
    "\n",
    "    label_enc = LabelEncoderExt()\n",
    "    cols = catVar2(train)\n",
    "    print(cols)\n",
    "    for col in cols:\n",
    "        label_enc.fit(train[col])\n",
    "        train[col] = label_enc.transform(train[col])\n",
    "        test[col] = label_enc.transform(test[col])\n",
    "        \n",
    "    print(train.shape,test.shape)\n",
    "    \n",
    "    return train,test\n"
   ]
  },
  {
   "cell_type": "code",
   "execution_count": 59,
   "metadata": {},
   "outputs": [],
   "source": [
    "## delete dates"
   ]
  },
  {
   "cell_type": "code",
   "execution_count": 60,
   "metadata": {},
   "outputs": [
    {
     "data": {
      "text/plain": [
       "dtype('O')"
      ]
     },
     "execution_count": 60,
     "metadata": {},
     "output_type": "execute_result"
    }
   ],
   "source": [
    "interactiondff3['justuk_date1'].dtypes"
   ]
  },
  {
   "cell_type": "code",
   "execution_count": null,
   "metadata": {},
   "outputs": [],
   "source": []
  },
  {
   "cell_type": "code",
   "execution_count": 61,
   "metadata": {},
   "outputs": [],
   "source": [
    "date_cols = [cname for cname in interactiondff3.columns if interactiondff3[cname].dtype == \"datetime64[ns]\"]"
   ]
  },
  {
   "cell_type": "code",
   "execution_count": 62,
   "metadata": {},
   "outputs": [
    {
     "data": {
      "text/plain": [
       "['instock_date', 'stock_update_date', 'uk_date1', 'uk_date2']"
      ]
     },
     "execution_count": 62,
     "metadata": {},
     "output_type": "execute_result"
    }
   ],
   "source": [
    "date_cols"
   ]
  },
  {
   "cell_type": "code",
   "execution_count": null,
   "metadata": {},
   "outputs": [],
   "source": []
  },
  {
   "cell_type": "code",
   "execution_count": 63,
   "metadata": {},
   "outputs": [
    {
     "data": {
      "text/plain": [
       "(20279, 106)"
      ]
     },
     "execution_count": 63,
     "metadata": {},
     "output_type": "execute_result"
    }
   ],
   "source": [
    "interactiondff3.shape"
   ]
  },
  {
   "cell_type": "code",
   "execution_count": 64,
   "metadata": {},
   "outputs": [],
   "source": [
    "final_df = interactiondff3.drop(['instock_date', 'stock_update_date', 'uk_date1', 'uk_date2','justinstock_date','juststock_update_date','justuk_date1','justuk_date2','gift_id'],axis =1)*1"
   ]
  },
  {
   "cell_type": "code",
   "execution_count": 65,
   "metadata": {},
   "outputs": [
    {
     "data": {
      "text/plain": [
       "Index(['gift_type', 'gift_category', 'gift_cluster', 'lsg_1', 'lsg_2', 'lsg_3',\n",
       "       'lsg_4', 'lsg_5', 'lsg_6', 'is_discounted', 'volumes', 'price',\n",
       "       'DaysStockUpdate', 'buyer12diff', 'buy1buytime', 'buy2buytime',\n",
       "       'stockupdatediff1', 'stockupdatediff2', 'instock_Year', 'instock_Month',\n",
       "       'instock_Week', 'instock_Day', 'instock_Hour', 'instock_Dayofweek',\n",
       "       'instock_Dayofyear', 'instock_Is_month_end', 'instock_Is_month_start',\n",
       "       'instock_Is_quarter_end', 'instock_Is_quarter_start',\n",
       "       'instock_Is_year_end', 'instock_Is_year_start', 'instock_Elapsed',\n",
       "       'stock_update_Year', 'stock_update_Month', 'stock_update_Week',\n",
       "       'stock_update_Day', 'stock_update_Hour', 'stock_update_Dayofweek',\n",
       "       'stock_update_Dayofyear', 'stock_update_Is_month_end',\n",
       "       'stock_update_Is_month_start', 'stock_update_Is_quarter_end',\n",
       "       'stock_update_Is_quarter_start', 'stock_update_Is_year_end',\n",
       "       'stock_update_Is_year_start', 'stock_update_Elapsed', 'uk_date1Year',\n",
       "       'uk_date1Month', 'uk_date1Week', 'uk_date1Day', 'uk_date1Hour',\n",
       "       'uk_date1Dayofweek', 'uk_date1Dayofyear', 'uk_date1Is_month_end',\n",
       "       'uk_date1Is_month_start', 'uk_date1Is_quarter_end',\n",
       "       'uk_date1Is_quarter_start', 'uk_date1Is_year_end',\n",
       "       'uk_date1Is_year_start', 'uk_date1Elapsed', 'uk_date2Year',\n",
       "       'uk_date2Month', 'uk_date2Week', 'uk_date2Day', 'uk_date2Hour',\n",
       "       'uk_date2Dayofweek', 'uk_date2Dayofyear', 'uk_date2Is_month_end',\n",
       "       'uk_date2Is_month_start', 'uk_date2Is_quarter_end',\n",
       "       'uk_date2Is_quarter_start', 'uk_date2Is_year_end',\n",
       "       'uk_date2Is_year_start', 'uk_date2Elapsed',\n",
       "       'Isholidayinstockgrceperiod', 'Isholidaystock_update_dategrceperiod',\n",
       "       'IsholidayUk_date1grceperiod', 'IsholidayUk_date2grceperiod',\n",
       "       'gift_type_gift_category', 'gift_type_gift_cluster',\n",
       "       'gift_category_gift_cluster', 'gift_type_gift_category_gift_cluster',\n",
       "       'lsg_1_lsg_2', 'lsg_1_lsg_3', 'lsg_1_lsg_4', 'lsg_1_lsg_5',\n",
       "       'lsg_1_lsg_6', 'lsg_2_lsg_3', 'lsg_2_lsg_4', 'lsg_2_lsg_5',\n",
       "       'lsg_2_lsg_6', 'lsg_3_lsg_4', 'lsg_3_lsg_5', 'lsg_3_lsg_6',\n",
       "       'lsg_4_lsg_5', 'lsg_4_lsg_6', 'lsg_5_lsg_6'],\n",
       "      dtype='object')"
      ]
     },
     "execution_count": 65,
     "metadata": {},
     "output_type": "execute_result"
    }
   ],
   "source": [
    "final_df.columns"
   ]
  },
  {
   "cell_type": "code",
   "execution_count": null,
   "metadata": {},
   "outputs": [],
   "source": []
  },
  {
   "cell_type": "code",
   "execution_count": 66,
   "metadata": {},
   "outputs": [
    {
     "name": "stderr",
     "output_type": "stream",
     "text": [
      "/usr/local/lib/python3.6/dist-packages/statsmodels/tools/_testing.py:19: FutureWarning: pandas.util.testing is deprecated. Use the functions in the public API at pandas.testing instead.\n",
      "  import pandas.util.testing as tm\n"
     ]
    }
   ],
   "source": [
    "########## Target variable#######\n",
    "import seaborn as sns\n",
    "import matplotlib.pyplot as plt\n",
    "from scipy import stats\n",
    "from scipy.stats import norm, skew #for some statistics"
   ]
  },
  {
   "cell_type": "code",
   "execution_count": 67,
   "metadata": {},
   "outputs": [
    {
     "name": "stdout",
     "output_type": "stream",
     "text": [
      "\n",
      " mu = 143.40 and sigma = 267.27\n",
      "\n"
     ]
    },
    {
     "data": {
      "image/png": "[encoded data removed]",
      "text/plain": [
       "<Figure size 432x288 with 1 Axes>"
      ]
     },
     "metadata": {
      "needs_background": "light"
     },
     "output_type": "display_data"
    },
    {
     "data": {
      "image/png": "[encoded data removed]",
      "text/plain": [
       "<Figure size 432x288 with 1 Axes>"
      ]
     },
     "metadata": {
      "needs_background": "light"
     },
     "output_type": "display_data"
    }
   ],
   "source": [
    "sns.distplot(interactiondff3['price'] , fit=norm);\n",
    "\n",
    "# Get the fitted parameters used by the function\n",
    "(mu, sigma) = norm.fit(final_df['price'])\n",
    "print( '\\n mu = {:.2f} and sigma = {:.2f}\\n'.format(mu, sigma))\n",
    "\n",
    "#Now plot the distribution\n",
    "plt.legend(['Normal dist. ($\\mu=$ {:.2f} and $\\sigma=$ {:.2f} )'.format(mu, sigma)],\n",
    "            loc='best')\n",
    "plt.ylabel('Frequency')\n",
    "plt.title('Price distribution')\n",
    "\n",
    "#Get also the QQ-plot\n",
    "fig = plt.figure()\n",
    "res = stats.probplot(final_df['price'], plot=plt)\n",
    "plt.show()"
   ]
  },
  {
   "cell_type": "code",
   "execution_count": 68,
   "metadata": {},
   "outputs": [],
   "source": [
    "interactiondff4 = final_df.copy()"
   ]
  },
  {
   "cell_type": "code",
   "execution_count": 69,
   "metadata": {},
   "outputs": [
    {
     "name": "stdout",
     "output_type": "stream",
     "text": [
      "\n",
      " mu = 4.38 and sigma = 0.97\n",
      "\n"
     ]
    },
    {
     "data": {
      "image/png": "[encoded data removed]",
      "text/plain": [
       "<Figure size 432x288 with 1 Axes>"
      ]
     },
     "metadata": {
      "needs_background": "light"
     },
     "output_type": "display_data"
    },
    {
     "data": {
      "image/png": "[encoded data removed]",
      "text/plain": [
       "<Figure size 432x288 with 1 Axes>"
      ]
     },
     "metadata": {
      "needs_background": "light"
     },
     "output_type": "display_data"
    }
   ],
   "source": [
    "interactiondff4[\"price\"] = np.log1p(final_df[\"price\"])\n",
    "\n",
    "#Check the new distribution \n",
    "sns.distplot(interactiondff4['price'] , fit=norm);\n",
    "\n",
    "# Get the fitted parameters used by the function\n",
    "(mu, sigma) = norm.fit(interactiondff4['price'])\n",
    "print( '\\n mu = {:.2f} and sigma = {:.2f}\\n'.format(mu, sigma))\n",
    "\n",
    "#Now plot the distribution\n",
    "plt.legend(['Normal dist. ($\\mu=$ {:.2f} and $\\sigma=$ {:.2f} )'.format(mu, sigma)],\n",
    "            loc='best')\n",
    "plt.ylabel('Frequency')\n",
    "plt.title('SalePrice distribution')\n",
    "\n",
    "#Get also the QQ-plot\n",
    "fig = plt.figure()\n",
    "res = stats.probplot(interactiondff4['price'], plot=plt)\n",
    "plt.show()"
   ]
  },
  {
   "cell_type": "code",
   "execution_count": 70,
   "metadata": {},
   "outputs": [
    {
     "name": "stdout",
     "output_type": "stream",
     "text": [
      "\n",
      " mu = 3.94 and sigma = 0.82\n",
      "\n"
     ]
    },
    {
     "data": {
      "image/png": "[encoded data removed]",
      "text/plain": [
       "<Figure size 432x288 with 1 Axes>"
      ]
     },
     "metadata": {
      "needs_background": "light"
     },
     "output_type": "display_data"
    },
    {
     "data": {
      "image/png": "[encoded data removed]",
      "text/plain": [
       "<Figure size 432x288 with 1 Axes>"
      ]
     },
     "metadata": {
      "needs_background": "light"
     },
     "output_type": "display_data"
    }
   ],
   "source": [
    "interactiondff4['price'],fitted_lambda = stats.boxcox(final_df['price'])\n",
    "# use lambda value to transform test data\n",
    "#test_data = stats.boxcox(test, fitted_lambda)\n",
    "#Check the new distribution \n",
    "sns.distplot(interactiondff4['price'] , fit=norm);\n",
    "\n",
    "# Get the fitted parameters used by the function\n",
    "(mu, sigma) = norm.fit(interactiondff4['price'])\n",
    "print( '\\n mu = {:.2f} and sigma = {:.2f}\\n'.format(mu, sigma))\n",
    "\n",
    "#Now plot the distribution\n",
    "plt.legend(['Normal dist. ($\\mu=$ {:.2f} and $\\sigma=$ {:.2f} )'.format(mu, sigma)],\n",
    "            loc='best')\n",
    "plt.ylabel('Frequency')\n",
    "plt.title('SalePrice distribution')\n",
    "\n",
    "#Get also the QQ-plot\n",
    "fig = plt.figure()\n",
    "res = stats.probplot(interactiondff4['price'], plot=plt)\n",
    "plt.show()"
   ]
  },
  {
   "cell_type": "code",
   "execution_count": 71,
   "metadata": {},
   "outputs": [
    {
     "data": {
      "text/html": [
       "<div>\n",
       "<style scoped>\n",
       "    .dataframe tbody tr th:only-of-type {\n",
       "        vertical-align: middle;\n",
       "    }\n",
       "\n",
       "    .dataframe tbody tr th {\n",
       "        vertical-align: top;\n",
       "    }\n",
       "\n",
       "    .dataframe thead th {\n",
       "        text-align: right;\n",
       "    }\n",
       "</style>\n",
       "<table border=\"1\" class=\"dataframe\">\n",
       "  <thead>\n",
       "    <tr style=\"text-align: right;\">\n",
       "      <th></th>\n",
       "      <th>gift_type</th>\n",
       "      <th>gift_category</th>\n",
       "      <th>gift_cluster</th>\n",
       "      <th>lsg_1</th>\n",
       "      <th>lsg_2</th>\n",
       "      <th>lsg_3</th>\n",
       "      <th>lsg_4</th>\n",
       "      <th>lsg_5</th>\n",
       "      <th>lsg_6</th>\n",
       "      <th>is_discounted</th>\n",
       "      <th>...</th>\n",
       "      <th>lsg_2_lsg_3</th>\n",
       "      <th>lsg_2_lsg_4</th>\n",
       "      <th>lsg_2_lsg_5</th>\n",
       "      <th>lsg_2_lsg_6</th>\n",
       "      <th>lsg_3_lsg_4</th>\n",
       "      <th>lsg_3_lsg_5</th>\n",
       "      <th>lsg_3_lsg_6</th>\n",
       "      <th>lsg_4_lsg_5</th>\n",
       "      <th>lsg_4_lsg_6</th>\n",
       "      <th>lsg_5_lsg_6</th>\n",
       "    </tr>\n",
       "  </thead>\n",
       "  <tbody>\n",
       "    <tr>\n",
       "      <th>0</th>\n",
       "      <td>61</td>\n",
       "      <td>534</td>\n",
       "      <td>3942</td>\n",
       "      <td>3377</td>\n",
       "      <td>5221</td>\n",
       "      <td>504</td>\n",
       "      <td>1912</td>\n",
       "      <td>10</td>\n",
       "      <td>554</td>\n",
       "      <td>0</td>\n",
       "      <td>...</td>\n",
       "      <td>5221_504</td>\n",
       "      <td>5221_1912</td>\n",
       "      <td>5221_10</td>\n",
       "      <td>5221_554</td>\n",
       "      <td>504_1912</td>\n",
       "      <td>504_10</td>\n",
       "      <td>504_554</td>\n",
       "      <td>1912_10</td>\n",
       "      <td>1912_554</td>\n",
       "      <td>10_554</td>\n",
       "    </tr>\n",
       "    <tr>\n",
       "      <th>1</th>\n",
       "      <td>61</td>\n",
       "      <td>534</td>\n",
       "      <td>3942</td>\n",
       "      <td>3377</td>\n",
       "      <td>5221</td>\n",
       "      <td>504</td>\n",
       "      <td>1912</td>\n",
       "      <td>10</td>\n",
       "      <td>554</td>\n",
       "      <td>1</td>\n",
       "      <td>...</td>\n",
       "      <td>5221_504</td>\n",
       "      <td>5221_1912</td>\n",
       "      <td>5221_10</td>\n",
       "      <td>5221_554</td>\n",
       "      <td>504_1912</td>\n",
       "      <td>504_10</td>\n",
       "      <td>504_554</td>\n",
       "      <td>1912_10</td>\n",
       "      <td>1912_554</td>\n",
       "      <td>10_554</td>\n",
       "    </tr>\n",
       "    <tr>\n",
       "      <th>2</th>\n",
       "      <td>584</td>\n",
       "      <td>262</td>\n",
       "      <td>0</td>\n",
       "      <td>5290</td>\n",
       "      <td>1579</td>\n",
       "      <td>3203</td>\n",
       "      <td>1912</td>\n",
       "      <td>9</td>\n",
       "      <td>1578</td>\n",
       "      <td>1</td>\n",
       "      <td>...</td>\n",
       "      <td>1579_3203</td>\n",
       "      <td>1579_1912</td>\n",
       "      <td>1579_9</td>\n",
       "      <td>1579_1578</td>\n",
       "      <td>3203_1912</td>\n",
       "      <td>3203_9</td>\n",
       "      <td>3203_1578</td>\n",
       "      <td>1912_9</td>\n",
       "      <td>1912_1578</td>\n",
       "      <td>9_1578</td>\n",
       "    </tr>\n",
       "    <tr>\n",
       "      <th>3</th>\n",
       "      <td>61</td>\n",
       "      <td>534</td>\n",
       "      <td>3942</td>\n",
       "      <td>3377</td>\n",
       "      <td>5221</td>\n",
       "      <td>504</td>\n",
       "      <td>1912</td>\n",
       "      <td>10</td>\n",
       "      <td>554</td>\n",
       "      <td>0</td>\n",
       "      <td>...</td>\n",
       "      <td>5221_504</td>\n",
       "      <td>5221_1912</td>\n",
       "      <td>5221_10</td>\n",
       "      <td>5221_554</td>\n",
       "      <td>504_1912</td>\n",
       "      <td>504_10</td>\n",
       "      <td>504_554</td>\n",
       "      <td>1912_10</td>\n",
       "      <td>1912_554</td>\n",
       "      <td>10_554</td>\n",
       "    </tr>\n",
       "    <tr>\n",
       "      <th>4</th>\n",
       "      <td>61</td>\n",
       "      <td>534</td>\n",
       "      <td>3942</td>\n",
       "      <td>3377</td>\n",
       "      <td>5221</td>\n",
       "      <td>504</td>\n",
       "      <td>1912</td>\n",
       "      <td>9</td>\n",
       "      <td>554</td>\n",
       "      <td>1</td>\n",
       "      <td>...</td>\n",
       "      <td>5221_504</td>\n",
       "      <td>5221_1912</td>\n",
       "      <td>5221_9</td>\n",
       "      <td>5221_554</td>\n",
       "      <td>504_1912</td>\n",
       "      <td>504_9</td>\n",
       "      <td>504_554</td>\n",
       "      <td>1912_9</td>\n",
       "      <td>1912_554</td>\n",
       "      <td>9_554</td>\n",
       "    </tr>\n",
       "    <tr>\n",
       "      <th>...</th>\n",
       "      <td>...</td>\n",
       "      <td>...</td>\n",
       "      <td>...</td>\n",
       "      <td>...</td>\n",
       "      <td>...</td>\n",
       "      <td>...</td>\n",
       "      <td>...</td>\n",
       "      <td>...</td>\n",
       "      <td>...</td>\n",
       "      <td>...</td>\n",
       "      <td>...</td>\n",
       "      <td>...</td>\n",
       "      <td>...</td>\n",
       "      <td>...</td>\n",
       "      <td>...</td>\n",
       "      <td>...</td>\n",
       "      <td>...</td>\n",
       "      <td>...</td>\n",
       "      <td>...</td>\n",
       "      <td>...</td>\n",
       "      <td>...</td>\n",
       "    </tr>\n",
       "    <tr>\n",
       "      <th>20274</th>\n",
       "      <td>105</td>\n",
       "      <td>704</td>\n",
       "      <td>6448</td>\n",
       "      <td>2055</td>\n",
       "      <td>6883</td>\n",
       "      <td>995</td>\n",
       "      <td>1912</td>\n",
       "      <td>10</td>\n",
       "      <td>1899</td>\n",
       "      <td>0</td>\n",
       "      <td>...</td>\n",
       "      <td>6883_995</td>\n",
       "      <td>6883_1912</td>\n",
       "      <td>6883_10</td>\n",
       "      <td>6883_1899</td>\n",
       "      <td>995_1912</td>\n",
       "      <td>995_10</td>\n",
       "      <td>995_1899</td>\n",
       "      <td>1912_10</td>\n",
       "      <td>1912_1899</td>\n",
       "      <td>10_1899</td>\n",
       "    </tr>\n",
       "    <tr>\n",
       "      <th>20275</th>\n",
       "      <td>1220</td>\n",
       "      <td>526</td>\n",
       "      <td>817</td>\n",
       "      <td>8323</td>\n",
       "      <td>6753</td>\n",
       "      <td>6706</td>\n",
       "      <td>1912</td>\n",
       "      <td>10</td>\n",
       "      <td>1899</td>\n",
       "      <td>0</td>\n",
       "      <td>...</td>\n",
       "      <td>6753_6706</td>\n",
       "      <td>6753_1912</td>\n",
       "      <td>6753_10</td>\n",
       "      <td>6753_1899</td>\n",
       "      <td>6706_1912</td>\n",
       "      <td>6706_10</td>\n",
       "      <td>6706_1899</td>\n",
       "      <td>1912_10</td>\n",
       "      <td>1912_1899</td>\n",
       "      <td>10_1899</td>\n",
       "    </tr>\n",
       "    <tr>\n",
       "      <th>20276</th>\n",
       "      <td>509</td>\n",
       "      <td>705</td>\n",
       "      <td>821</td>\n",
       "      <td>2826</td>\n",
       "      <td>4009</td>\n",
       "      <td>2912</td>\n",
       "      <td>1912</td>\n",
       "      <td>10</td>\n",
       "      <td>1451</td>\n",
       "      <td>0</td>\n",
       "      <td>...</td>\n",
       "      <td>4009_2912</td>\n",
       "      <td>4009_1912</td>\n",
       "      <td>4009_10</td>\n",
       "      <td>4009_1451</td>\n",
       "      <td>2912_1912</td>\n",
       "      <td>2912_10</td>\n",
       "      <td>2912_1451</td>\n",
       "      <td>1912_10</td>\n",
       "      <td>1912_1451</td>\n",
       "      <td>10_1451</td>\n",
       "    </tr>\n",
       "    <tr>\n",
       "      <th>20277</th>\n",
       "      <td>682</td>\n",
       "      <td>213</td>\n",
       "      <td>5620</td>\n",
       "      <td>2089</td>\n",
       "      <td>6883</td>\n",
       "      <td>3607</td>\n",
       "      <td>1912</td>\n",
       "      <td>10</td>\n",
       "      <td>822</td>\n",
       "      <td>0</td>\n",
       "      <td>...</td>\n",
       "      <td>6883_3607</td>\n",
       "      <td>6883_1912</td>\n",
       "      <td>6883_10</td>\n",
       "      <td>6883_822</td>\n",
       "      <td>3607_1912</td>\n",
       "      <td>3607_10</td>\n",
       "      <td>3607_822</td>\n",
       "      <td>1912_10</td>\n",
       "      <td>1912_822</td>\n",
       "      <td>10_822</td>\n",
       "    </tr>\n",
       "    <tr>\n",
       "      <th>20278</th>\n",
       "      <td>1061</td>\n",
       "      <td>212</td>\n",
       "      <td>4987</td>\n",
       "      <td>898</td>\n",
       "      <td>1814</td>\n",
       "      <td>6109</td>\n",
       "      <td>1912</td>\n",
       "      <td>10</td>\n",
       "      <td>1899</td>\n",
       "      <td>0</td>\n",
       "      <td>...</td>\n",
       "      <td>1814_6109</td>\n",
       "      <td>1814_1912</td>\n",
       "      <td>1814_10</td>\n",
       "      <td>1814_1899</td>\n",
       "      <td>6109_1912</td>\n",
       "      <td>6109_10</td>\n",
       "      <td>6109_1899</td>\n",
       "      <td>1912_10</td>\n",
       "      <td>1912_1899</td>\n",
       "      <td>10_1899</td>\n",
       "    </tr>\n",
       "  </tbody>\n",
       "</table>\n",
       "<p>20279 rows × 97 columns</p>\n",
       "</div>"
      ],
      "text/plain": [
       "       gift_type  gift_category  gift_cluster  lsg_1  lsg_2  lsg_3  lsg_4  \\\n",
       "0             61            534          3942   3377   5221    504   1912   \n",
       "1             61            534          3942   3377   5221    504   1912   \n",
       "2            584            262             0   5290   1579   3203   1912   \n",
       "3             61            534          3942   3377   5221    504   1912   \n",
       "4             61            534          3942   3377   5221    504   1912   \n",
       "...          ...            ...           ...    ...    ...    ...    ...   \n",
       "20274        105            704          6448   2055   6883    995   1912   \n",
       "20275       1220            526           817   8323   6753   6706   1912   \n",
       "20276        509            705           821   2826   4009   2912   1912   \n",
       "20277        682            213          5620   2089   6883   3607   1912   \n",
       "20278       1061            212          4987    898   1814   6109   1912   \n",
       "\n",
       "       lsg_5  lsg_6  is_discounted  ...  lsg_2_lsg_3  lsg_2_lsg_4  \\\n",
       "0         10    554              0  ...     5221_504    5221_1912   \n",
       "1         10    554              1  ...     5221_504    5221_1912   \n",
       "2          9   1578              1  ...    1579_3203    1579_1912   \n",
       "3         10    554              0  ...     5221_504    5221_1912   \n",
       "4          9    554              1  ...     5221_504    5221_1912   \n",
       "...      ...    ...            ...  ...          ...          ...   \n",
       "20274     10   1899              0  ...     6883_995    6883_1912   \n",
       "20275     10   1899              0  ...    6753_6706    6753_1912   \n",
       "20276     10   1451              0  ...    4009_2912    4009_1912   \n",
       "20277     10    822              0  ...    6883_3607    6883_1912   \n",
       "20278     10   1899              0  ...    1814_6109    1814_1912   \n",
       "\n",
       "       lsg_2_lsg_5  lsg_2_lsg_6  lsg_3_lsg_4  lsg_3_lsg_5  lsg_3_lsg_6  \\\n",
       "0          5221_10     5221_554     504_1912       504_10      504_554   \n",
       "1          5221_10     5221_554     504_1912       504_10      504_554   \n",
       "2           1579_9    1579_1578    3203_1912       3203_9    3203_1578   \n",
       "3          5221_10     5221_554     504_1912       504_10      504_554   \n",
       "4           5221_9     5221_554     504_1912        504_9      504_554   \n",
       "...            ...          ...          ...          ...          ...   \n",
       "20274      6883_10    6883_1899     995_1912       995_10     995_1899   \n",
       "20275      6753_10    6753_1899    6706_1912      6706_10    6706_1899   \n",
       "20276      4009_10    4009_1451    2912_1912      2912_10    2912_1451   \n",
       "20277      6883_10     6883_822    3607_1912      3607_10     3607_822   \n",
       "20278      1814_10    1814_1899    6109_1912      6109_10    6109_1899   \n",
       "\n",
       "       lsg_4_lsg_5  lsg_4_lsg_6  lsg_5_lsg_6  \n",
       "0          1912_10     1912_554       10_554  \n",
       "1          1912_10     1912_554       10_554  \n",
       "2           1912_9    1912_1578       9_1578  \n",
       "3          1912_10     1912_554       10_554  \n",
       "4           1912_9     1912_554        9_554  \n",
       "...            ...          ...          ...  \n",
       "20274      1912_10    1912_1899      10_1899  \n",
       "20275      1912_10    1912_1899      10_1899  \n",
       "20276      1912_10    1912_1451      10_1451  \n",
       "20277      1912_10     1912_822       10_822  \n",
       "20278      1912_10    1912_1899      10_1899  \n",
       "\n",
       "[20279 rows x 97 columns]"
      ]
     },
     "execution_count": 71,
     "metadata": {},
     "output_type": "execute_result"
    }
   ],
   "source": [
    "#from scipy.special import boxcox, inv_boxcox\n",
    "interactiondff4"
   ]
  },
  {
   "cell_type": "code",
   "execution_count": 72,
   "metadata": {},
   "outputs": [
    {
     "name": "stdout",
     "output_type": "stream",
     "text": [
      "\n",
      "Skew in numerical features: \n",
      "\n"
     ]
    },
    {
     "data": {
      "text/html": [
       "<div>\n",
       "<style scoped>\n",
       "    .dataframe tbody tr th:only-of-type {\n",
       "        vertical-align: middle;\n",
       "    }\n",
       "\n",
       "    .dataframe tbody tr th {\n",
       "        vertical-align: top;\n",
       "    }\n",
       "\n",
       "    .dataframe thead th {\n",
       "        text-align: right;\n",
       "    }\n",
       "</style>\n",
       "<table border=\"1\" class=\"dataframe\">\n",
       "  <thead>\n",
       "    <tr style=\"text-align: right;\">\n",
       "      <th></th>\n",
       "      <th>Skew</th>\n",
       "    </tr>\n",
       "  </thead>\n",
       "  <tbody>\n",
       "    <tr>\n",
       "      <th>uk_date2Is_year_end</th>\n",
       "      <td>142.393820</td>\n",
       "    </tr>\n",
       "    <tr>\n",
       "      <th>instock_Is_year_end</th>\n",
       "      <td>100.680187</td>\n",
       "    </tr>\n",
       "    <tr>\n",
       "      <th>uk_date2Is_year_start</th>\n",
       "      <td>82.198947</td>\n",
       "    </tr>\n",
       "    <tr>\n",
       "      <th>uk_date1Is_year_end</th>\n",
       "      <td>82.198947</td>\n",
       "    </tr>\n",
       "    <tr>\n",
       "      <th>stock_update_Is_quarter_end</th>\n",
       "      <td>19.123593</td>\n",
       "    </tr>\n",
       "    <tr>\n",
       "      <th>stock_update_Is_quarter_start</th>\n",
       "      <td>16.463420</td>\n",
       "    </tr>\n",
       "    <tr>\n",
       "      <th>uk_date2Is_quarter_start</th>\n",
       "      <td>14.664869</td>\n",
       "    </tr>\n",
       "    <tr>\n",
       "      <th>stock_update_Is_month_end</th>\n",
       "      <td>11.910372</td>\n",
       "    </tr>\n",
       "    <tr>\n",
       "      <th>uk_date2Is_quarter_end</th>\n",
       "      <td>11.232694</td>\n",
       "    </tr>\n",
       "    <tr>\n",
       "      <th>instock_Is_quarter_start</th>\n",
       "      <td>6.808915</td>\n",
       "    </tr>\n",
       "  </tbody>\n",
       "</table>\n",
       "</div>"
      ],
      "text/plain": [
       "                                     Skew\n",
       "uk_date2Is_year_end            142.393820\n",
       "instock_Is_year_end            100.680187\n",
       "uk_date2Is_year_start           82.198947\n",
       "uk_date1Is_year_end             82.198947\n",
       "stock_update_Is_quarter_end     19.123593\n",
       "stock_update_Is_quarter_start   16.463420\n",
       "uk_date2Is_quarter_start        14.664869\n",
       "stock_update_Is_month_end       11.910372\n",
       "uk_date2Is_quarter_end          11.232694\n",
       "instock_Is_quarter_start         6.808915"
      ]
     },
     "execution_count": 72,
     "metadata": {},
     "output_type": "execute_result"
    }
   ],
   "source": [
    "numeric_feats = interactiondff4.dtypes[interactiondff4.dtypes != \"object\"].index\n",
    "\n",
    "# Check the skew of all numerical features\n",
    "skewed_feats = interactiondff4[numeric_feats].apply(lambda x: skew(x.dropna())).sort_values(ascending=False)\n",
    "print(\"\\nSkew in numerical features: \\n\")\n",
    "skewness = pd.DataFrame({'Skew' :skewed_feats})\n",
    "skewness.head(10)"
   ]
  },
  {
   "cell_type": "code",
   "execution_count": 73,
   "metadata": {},
   "outputs": [],
   "source": [
    "from sklearn.model_selection import train_test_split\n"
   ]
  },
  {
   "cell_type": "code",
   "execution_count": 74,
   "metadata": {},
   "outputs": [],
   "source": [
    "y = final_df.price\n",
    "X = final_df.drop(['price'], axis=1)\n"
   ]
  },
  {
   "cell_type": "code",
   "execution_count": 75,
   "metadata": {},
   "outputs": [],
   "source": [
    "#feature selected finally \n",
    "\n",
    "d = ['uk_date2Dayofyear',\n",
    " 'uk_date2Day',\n",
    " 'uk_date1Hour',\n",
    " 'uk_date1Dayofyear',\n",
    " 'stockupdatediff2',\n",
    " 'stockupdatediff1',\n",
    " 'stock_update_Hour',\n",
    " 'stock_update_Dayofyear',\n",
    " 'stock_update_Day',\n",
    " 'lsg_2_lsg_6',\n",
    " 'lsg_2_lsg_5',\n",
    " 'lsg_2_lsg_4',\n",
    " 'lsg_1_lsg_3',\n",
    " 'lsg_1_lsg_2',\n",
    " 'instock_Dayofyear',\n",
    " 'gift_type_gift_cluster',\n",
    " 'gift_type_gift_category_gift_cluster',\n",
    " 'buy2buytime',\n",
    " 'DaysStockUpdate',\n",
    " 'uk_date2Week',\n",
    " 'uk_date2Elapsed',\n",
    " 'uk_date1Week',\n",
    " 'uk_date1Elapsed',\n",
    " 'stock_update_Elapsed',\n",
    " 'lsg_6',\n",
    " 'lsg_5_lsg_6',\n",
    " 'lsg_3_lsg_6',\n",
    " 'lsg_3_lsg_5',\n",
    " 'lsg_3_lsg_4',\n",
    " 'lsg_3',\n",
    " 'lsg_2_lsg_3',\n",
    " 'lsg_2',\n",
    " 'lsg_1_lsg_6',\n",
    " 'lsg_1_lsg_5',\n",
    " 'lsg_1',\n",
    " 'is_discounted',\n",
    " 'instock_Week',\n",
    " 'instock_Hour',\n",
    " 'instock_Elapsed',\n",
    " 'instock_Day',\n",
    " 'gift_type_gift_category',\n",
    " 'gift_type',\n",
    " 'gift_cluster',\n",
    " 'gift_category_gift_cluster',\n",
    " 'gift_category',\n",
    " 'buyer12diff',\n",
    " 'buy1buytime',\n",
    " 'volumes',\n",
    " 'uk_date2Year',\n",
    " 'uk_date2Month',\n",
    " 'uk_date2Is_year_start',\n",
    " 'uk_date2Is_year_end',\n",
    " 'uk_date2Is_quarter_start',\n",
    " 'uk_date2Is_quarter_end',\n",
    " 'uk_date2Is_month_start',\n",
    " 'uk_date2Is_month_end',\n",
    " 'uk_date2Hour',\n",
    " 'uk_date2Dayofweek',\n",
    " 'uk_date1Year',\n",
    " 'uk_date1Month',\n",
    " 'uk_date1Is_year_end',\n",
    " 'uk_date1Is_quarter_start',\n",
    " 'uk_date1Is_quarter_end',\n",
    " 'uk_date1Is_month_start',\n",
    " 'uk_date1Is_month_end',\n",
    " 'uk_date1Dayofweek',\n",
    " 'uk_date1Day',\n",
    " 'stock_update_Year',\n",
    " 'stock_update_Week',\n",
    " 'stock_update_Month',\n",
    " 'stock_update_Is_quarter_start',\n",
    " 'stock_update_Is_quarter_end',\n",
    " 'stock_update_Is_month_start',\n",
    " 'stock_update_Is_month_end',\n",
    " 'stock_update_Dayofweek',\n",
    " 'lsg_5',\n",
    " 'lsg_4_lsg_6',\n",
    " 'lsg_4_lsg_5']"
   ]
  },
  {
   "cell_type": "code",
   "execution_count": 76,
   "metadata": {},
   "outputs": [],
   "source": [
    "X = X[d]"
   ]
  },
  {
   "cell_type": "code",
   "execution_count": null,
   "metadata": {},
   "outputs": [],
   "source": []
  },
  {
   "cell_type": "code",
   "execution_count": 77,
   "metadata": {},
   "outputs": [],
   "source": [
    "X_train, X_valid, y_train, y_valid = train_test_split(X, y, train_size=0.9999, test_size=0.0000001,random_state=0)"
   ]
  },
  {
   "cell_type": "code",
   "execution_count": 78,
   "metadata": {},
   "outputs": [
    {
     "data": {
      "text/html": [
       "<div>\n",
       "<style scoped>\n",
       "    .dataframe tbody tr th:only-of-type {\n",
       "        vertical-align: middle;\n",
       "    }\n",
       "\n",
       "    .dataframe tbody tr th {\n",
       "        vertical-align: top;\n",
       "    }\n",
       "\n",
       "    .dataframe thead th {\n",
       "        text-align: right;\n",
       "    }\n",
       "</style>\n",
       "<table border=\"1\" class=\"dataframe\">\n",
       "  <thead>\n",
       "    <tr style=\"text-align: right;\">\n",
       "      <th></th>\n",
       "      <th>uk_date2Dayofyear</th>\n",
       "      <th>uk_date2Day</th>\n",
       "      <th>uk_date1Hour</th>\n",
       "      <th>uk_date1Dayofyear</th>\n",
       "      <th>stockupdatediff2</th>\n",
       "      <th>stockupdatediff1</th>\n",
       "      <th>stock_update_Hour</th>\n",
       "      <th>stock_update_Dayofyear</th>\n",
       "      <th>stock_update_Day</th>\n",
       "      <th>lsg_2_lsg_6</th>\n",
       "      <th>...</th>\n",
       "      <th>stock_update_Week</th>\n",
       "      <th>stock_update_Month</th>\n",
       "      <th>stock_update_Is_quarter_start</th>\n",
       "      <th>stock_update_Is_quarter_end</th>\n",
       "      <th>stock_update_Is_month_start</th>\n",
       "      <th>stock_update_Is_month_end</th>\n",
       "      <th>stock_update_Dayofweek</th>\n",
       "      <th>lsg_5</th>\n",
       "      <th>lsg_4_lsg_6</th>\n",
       "      <th>lsg_4_lsg_5</th>\n",
       "    </tr>\n",
       "  </thead>\n",
       "  <tbody>\n",
       "    <tr>\n",
       "      <th>2739</th>\n",
       "      <td>226</td>\n",
       "      <td>14</td>\n",
       "      <td>17</td>\n",
       "      <td>235</td>\n",
       "      <td>202</td>\n",
       "      <td>193</td>\n",
       "      <td>22</td>\n",
       "      <td>63</td>\n",
       "      <td>3</td>\n",
       "      <td>2370_1685</td>\n",
       "      <td>...</td>\n",
       "      <td>9</td>\n",
       "      <td>3</td>\n",
       "      <td>0</td>\n",
       "      <td>0</td>\n",
       "      <td>0</td>\n",
       "      <td>0</td>\n",
       "      <td>3</td>\n",
       "      <td>1</td>\n",
       "      <td>406_1685</td>\n",
       "      <td>406_1</td>\n",
       "    </tr>\n",
       "  </tbody>\n",
       "</table>\n",
       "<p>1 rows × 78 columns</p>\n",
       "</div>"
      ],
      "text/plain": [
       "      uk_date2Dayofyear  uk_date2Day  uk_date1Hour  uk_date1Dayofyear  \\\n",
       "2739                226           14            17                235   \n",
       "\n",
       "      stockupdatediff2  stockupdatediff1  stock_update_Hour  \\\n",
       "2739               202               193                 22   \n",
       "\n",
       "      stock_update_Dayofyear  stock_update_Day lsg_2_lsg_6  ...  \\\n",
       "2739                      63                 3   2370_1685  ...   \n",
       "\n",
       "     stock_update_Week stock_update_Month stock_update_Is_quarter_start  \\\n",
       "2739                 9                  3                             0   \n",
       "\n",
       "     stock_update_Is_quarter_end  stock_update_Is_month_start  \\\n",
       "2739                           0                            0   \n",
       "\n",
       "     stock_update_Is_month_end stock_update_Dayofweek  lsg_5  lsg_4_lsg_6  \\\n",
       "2739                         0                      3      1     406_1685   \n",
       "\n",
       "      lsg_4_lsg_5  \n",
       "2739        406_1  \n",
       "\n",
       "[1 rows x 78 columns]"
      ]
     },
     "execution_count": 78,
     "metadata": {},
     "output_type": "execute_result"
    }
   ],
   "source": [
    "X_valid"
   ]
  },
  {
   "cell_type": "code",
   "execution_count": 79,
   "metadata": {},
   "outputs": [
    {
     "name": "stdout",
     "output_type": "stream",
     "text": [
      "['lsg_2_lsg_6', 'lsg_2_lsg_5', 'lsg_2_lsg_4', 'lsg_1_lsg_3', 'lsg_1_lsg_2', 'gift_type_gift_cluster', 'gift_type_gift_category_gift_cluster', 'lsg_5_lsg_6', 'lsg_3_lsg_6', 'lsg_3_lsg_5', 'lsg_3_lsg_4', 'lsg_2_lsg_3', 'lsg_1_lsg_6', 'lsg_1_lsg_5', 'gift_type_gift_category', 'gift_category_gift_cluster', 'lsg_4_lsg_6', 'lsg_4_lsg_5']\n"
     ]
    },
    {
     "name": "stderr",
     "output_type": "stream",
     "text": [
      "/home/ryan/.local/lib/python3.6/site-packages/ipykernel_launcher.py:9: SettingWithCopyWarning: \n",
      "A value is trying to be set on a copy of a slice from a DataFrame.\n",
      "Try using .loc[row_indexer,col_indexer] = value instead\n",
      "\n",
      "See the caveats in the documentation: https://pandas.pydata.org/pandas-docs/stable/user_guide/indexing.html#returning-a-view-versus-a-copy\n",
      "  if __name__ == '__main__':\n",
      "/home/ryan/.local/lib/python3.6/site-packages/ipykernel_launcher.py:10: SettingWithCopyWarning: \n",
      "A value is trying to be set on a copy of a slice from a DataFrame.\n",
      "Try using .loc[row_indexer,col_indexer] = value instead\n",
      "\n",
      "See the caveats in the documentation: https://pandas.pydata.org/pandas-docs/stable/user_guide/indexing.html#returning-a-view-versus-a-copy\n",
      "  # Remove the CWD from sys.path while we load stuff.\n"
     ]
    },
    {
     "name": "stdout",
     "output_type": "stream",
     "text": [
      "(20276, 78) (1, 78)\n"
     ]
    }
   ],
   "source": [
    "X_trainenc,X_validenc = robustlabelencoder(X_train,X_valid)"
   ]
  },
  {
   "cell_type": "code",
   "execution_count": 80,
   "metadata": {},
   "outputs": [],
   "source": [
    "#X_trainenc is X actully"
   ]
  },
  {
   "cell_type": "markdown",
   "metadata": {},
   "source": [
    "# model time"
   ]
  },
  {
   "cell_type": "code",
   "execution_count": 81,
   "metadata": {},
   "outputs": [],
   "source": [
    "from sklearn.linear_model import ElasticNet, Lasso,  BayesianRidge, LassoLarsIC\n",
    "from sklearn.ensemble import RandomForestRegressor,  GradientBoostingRegressor\n",
    "from sklearn.kernel_ridge import KernelRidge\n",
    "from sklearn.pipeline import make_pipeline\n",
    "from sklearn.preprocessing import RobustScaler\n",
    "from sklearn.base import BaseEstimator, TransformerMixin, RegressorMixin, clone\n",
    "from sklearn.model_selection import KFold, cross_val_score, train_test_split\n",
    "from sklearn.metrics import mean_squared_error\n",
    "import xgboost as xgb\n",
    "import lightgbm as lgb"
   ]
  },
  {
   "cell_type": "code",
   "execution_count": null,
   "metadata": {},
   "outputs": [],
   "source": []
  },
  {
   "cell_type": "code",
   "execution_count": 82,
   "metadata": {},
   "outputs": [],
   "source": [
    "n_folds = 5\n",
    "\n",
    "def rmsle_cv(model):\n",
    "    kf = KFold(n_folds, shuffle=True, random_state=42).get_n_splits(X_trainenc.values)\n",
    "    rmae= np.sqrt(-cross_val_score(model, X_trainenc.values, y_train, scoring=\"neg_mean_absolute_error\", cv = kf))\n",
    "    return(rmae)"
   ]
  },
  {
   "cell_type": "code",
   "execution_count": 83,
   "metadata": {},
   "outputs": [],
   "source": [
    "lasso = make_pipeline(RobustScaler(), Lasso(alpha =0.0005, random_state=1))"
   ]
  },
  {
   "cell_type": "code",
   "execution_count": 84,
   "metadata": {},
   "outputs": [],
   "source": [
    "ENet = make_pipeline(RobustScaler(), ElasticNet(alpha=0.0005, l1_ratio=.9, random_state=3))"
   ]
  },
  {
   "cell_type": "code",
   "execution_count": 86,
   "metadata": {},
   "outputs": [],
   "source": [
    "KRR = KernelRidge(alpha=0.6, kernel='polynomial', degree=2, coef0=2.5)"
   ]
  },
  {
   "cell_type": "code",
   "execution_count": 87,
   "metadata": {},
   "outputs": [],
   "source": [
    "GBoost = GradientBoostingRegressor(n_estimators=3000, learning_rate=0.05,\n",
    "                                   max_depth=4, max_features='sqrt',\n",
    "                                   min_samples_leaf=15, min_samples_split=10, \n",
    "                                   loss='huber', random_state =5)"
   ]
  },
  {
   "cell_type": "code",
   "execution_count": 97,
   "metadata": {},
   "outputs": [],
   "source": [
    "model_xgb = xgb.XGBRegressor(random_state=42)\n"
   ]
  },
  {
   "cell_type": "code",
   "execution_count": 99,
   "metadata": {},
   "outputs": [],
   "source": [
    "# model_lgb = lgb.LGBMRegressor(objective='regression',num_leaves=5,\n",
    "#                               learning_rate=0.05, n_estimators=720,\n",
    "#                               max_bin = 55, bagging_fraction = 0.8,\n",
    "#                               bagging_freq = 5, feature_fraction = 0.2319,\n",
    "#                               feature_fraction_seed=9, bagging_seed=9,\n",
    "#                               min_data_in_leaf =6, min_sum_hessian_in_leaf = 11)\n",
    "model_lgb= lgb.LGBMRegressor(objective='regression',n_estimators=150, learning_rate=0.09, num_leaves=42, colsample_bytree=0.2,\n",
    "            reg_alpha=3, reg_lambda=1, min_split_gain=0.01, min_child_weight=40)"
   ]
  },
  {
   "cell_type": "code",
   "execution_count": 100,
   "metadata": {},
   "outputs": [],
   "source": [
    "model_rf = RandomForestRegressor()"
   ]
  },
  {
   "cell_type": "code",
   "execution_count": 101,
   "metadata": {},
   "outputs": [],
   "source": [
    "from sklearn.neighbors import KNeighborsRegressor\n",
    "model_Knnr = KNeighborsRegressor(n_neighbors=5)"
   ]
  },
  {
   "cell_type": "code",
   "execution_count": 102,
   "metadata": {},
   "outputs": [],
   "source": [
    "from sklearn.tree import ExtraTreeRegressor\n",
    "model_extree = ExtraTreeRegressor(random_state=0)"
   ]
  },
  {
   "cell_type": "code",
   "execution_count": null,
   "metadata": {},
   "outputs": [],
   "source": []
  },
  {
   "cell_type": "code",
   "execution_count": 93,
   "metadata": {},
   "outputs": [
    {
     "name": "stderr",
     "output_type": "stream",
     "text": [
      "/usr/local/lib/python3.6/dist-packages/sklearn/linear_model/_coordinate_descent.py:476: ConvergenceWarning: Objective did not converge. You might want to increase the number of iterations. Duality gap: 323636848.0483333, tolerance: 118964.70852114454\n",
      "  positive)\n",
      "/usr/local/lib/python3.6/dist-packages/sklearn/linear_model/_coordinate_descent.py:476: ConvergenceWarning: Objective did not converge. You might want to increase the number of iterations. Duality gap: 311521619.0456343, tolerance: 111822.1909856325\n",
      "  positive)\n",
      "/usr/local/lib/python3.6/dist-packages/sklearn/linear_model/_coordinate_descent.py:476: ConvergenceWarning: Objective did not converge. You might want to increase the number of iterations. Duality gap: 304780839.90374196, tolerance: 111493.745503526\n",
      "  positive)\n",
      "/usr/local/lib/python3.6/dist-packages/sklearn/linear_model/_coordinate_descent.py:476: ConvergenceWarning: Objective did not converge. You might want to increase the number of iterations. Duality gap: 318337946.7914005, tolerance: 114883.64512349186\n",
      "  positive)\n"
     ]
    },
    {
     "name": "stdout",
     "output_type": "stream",
     "text": [
      "\n",
      "Lasso score: 10.1443 (0.1453)\n",
      "\n"
     ]
    },
    {
     "name": "stderr",
     "output_type": "stream",
     "text": [
      "/usr/local/lib/python3.6/dist-packages/sklearn/linear_model/_coordinate_descent.py:476: ConvergenceWarning: Objective did not converge. You might want to increase the number of iterations. Duality gap: 345968144.0841063, tolerance: 120703.16878573621\n",
      "  positive)\n"
     ]
    }
   ],
   "source": [
    "score = rmsle_cv(lasso)\n",
    "print(\"\\nLasso score: {:.4f} ({:.4f})\\n\".format(score.mean(), score.std()))"
   ]
  },
  {
   "cell_type": "code",
   "execution_count": 94,
   "metadata": {},
   "outputs": [
    {
     "name": "stderr",
     "output_type": "stream",
     "text": [
      "/usr/local/lib/python3.6/dist-packages/sklearn/linear_model/_coordinate_descent.py:476: ConvergenceWarning: Objective did not converge. You might want to increase the number of iterations. Duality gap: 324100948.61432874, tolerance: 118964.70852114454\n",
      "  positive)\n",
      "/usr/local/lib/python3.6/dist-packages/sklearn/linear_model/_coordinate_descent.py:476: ConvergenceWarning: Objective did not converge. You might want to increase the number of iterations. Duality gap: 312036031.7907917, tolerance: 111822.1909856325\n",
      "  positive)\n",
      "/usr/local/lib/python3.6/dist-packages/sklearn/linear_model/_coordinate_descent.py:476: ConvergenceWarning: Objective did not converge. You might want to increase the number of iterations. Duality gap: 305334686.77565134, tolerance: 111493.745503526\n",
      "  positive)\n",
      "/usr/local/lib/python3.6/dist-packages/sklearn/linear_model/_coordinate_descent.py:476: ConvergenceWarning: Objective did not converge. You might want to increase the number of iterations. Duality gap: 318786769.815902, tolerance: 114883.64512349186\n",
      "  positive)\n"
     ]
    },
    {
     "name": "stdout",
     "output_type": "stream",
     "text": [
      "ElasticNet score: 10.1464 (0.1450)\n",
      "\n"
     ]
    },
    {
     "name": "stderr",
     "output_type": "stream",
     "text": [
      "/usr/local/lib/python3.6/dist-packages/sklearn/linear_model/_coordinate_descent.py:476: ConvergenceWarning: Objective did not converge. You might want to increase the number of iterations. Duality gap: 346436005.26620394, tolerance: 120703.16878573621\n",
      "  positive)\n"
     ]
    }
   ],
   "source": [
    "score = rmsle_cv(ENet)\n",
    "print(\"ElasticNet score: {:.4f} ({:.4f})\\n\".format(score.mean(), score.std()))"
   ]
  },
  {
   "cell_type": "code",
   "execution_count": 95,
   "metadata": {},
   "outputs": [],
   "source": [
    "#score = rmsle_cv(KRR)\n",
    "#print(\"Kernel Ridge score: {:.4f} ({:.4f})\\n\".format(score.mean(), score.std()))"
   ]
  },
  {
   "cell_type": "code",
   "execution_count": null,
   "metadata": {},
   "outputs": [],
   "source": []
  },
  {
   "cell_type": "code",
   "execution_count": 103,
   "metadata": {},
   "outputs": [
    {
     "name": "stdout",
     "output_type": "stream",
     "text": [
      "Gradient Boosting score: 6.0439 (0.1857)\n",
      "\n"
     ]
    }
   ],
   "source": [
    "score = rmsle_cv(GBoost)\n",
    "print(\"Gradient Boosting score: {:.4f} ({:.4f})\\n\".format(score.mean(), score.std()))"
   ]
  },
  {
   "cell_type": "code",
   "execution_count": null,
   "metadata": {},
   "outputs": [],
   "source": []
  },
  {
   "cell_type": "code",
   "execution_count": 104,
   "metadata": {},
   "outputs": [
    {
     "name": "stdout",
     "output_type": "stream",
     "text": [
      "[00:38:14] WARNING: /workspace/src/objective/regression_obj.cu:152: reg:linear is now deprecated in favor of reg:squarederror.\n",
      "[00:38:35] WARNING: /workspace/src/objective/regression_obj.cu:152: reg:linear is now deprecated in favor of reg:squarederror.\n",
      "[00:38:38] WARNING: /workspace/src/objective/regression_obj.cu:152: reg:linear is now deprecated in favor of reg:squarederror.\n",
      "[00:38:42] WARNING: /workspace/src/objective/regression_obj.cu:152: reg:linear is now deprecated in favor of reg:squarederror.\n",
      "[00:38:46] WARNING: /workspace/src/objective/regression_obj.cu:152: reg:linear is now deprecated in favor of reg:squarederror.\n",
      "Xgboost score: 7.4532 (0.1360)\n",
      "\n"
     ]
    }
   ],
   "source": [
    "score = rmsle_cv(model_xgb)\n",
    "print(\"Xgboost score: {:.4f} ({:.4f})\\n\".format(score.mean(), score.std()))"
   ]
  },
  {
   "cell_type": "code",
   "execution_count": null,
   "metadata": {},
   "outputs": [],
   "source": []
  },
  {
   "cell_type": "code",
   "execution_count": 105,
   "metadata": {},
   "outputs": [
    {
     "name": "stdout",
     "output_type": "stream",
     "text": [
      "LGBM score: 6.7202 (0.1274)\n",
      "\n"
     ]
    }
   ],
   "source": [
    "score = rmsle_cv(model_lgb)\n",
    "print(\"LGBM score: {:.4f} ({:.4f})\\n\" .format(score.mean(), score.std()))"
   ]
  },
  {
   "cell_type": "code",
   "execution_count": null,
   "metadata": {},
   "outputs": [],
   "source": []
  },
  {
   "cell_type": "code",
   "execution_count": 106,
   "metadata": {},
   "outputs": [
    {
     "name": "stdout",
     "output_type": "stream",
     "text": [
      "RF score: 6.3231 (0.1857)\n",
      "\n"
     ]
    }
   ],
   "source": [
    "score = rmsle_cv(model_rf)\n",
    "print(\"RF score: {:.4f} ({:.4f})\\n\" .format(score.mean(), score.std()))"
   ]
  },
  {
   "cell_type": "code",
   "execution_count": 108,
   "metadata": {},
   "outputs": [
    {
     "name": "stdout",
     "output_type": "stream",
     "text": [
      "KNNRegressor score: 8.6635 (0.1368)\n",
      "\n"
     ]
    }
   ],
   "source": [
    "score = rmsle_cv(model_Knnr)\n",
    "print(\"KNNRegressor score: {:.4f} ({:.4f})\\n\" .format(score.mean(), score.std()))"
   ]
  },
  {
   "cell_type": "code",
   "execution_count": 110,
   "metadata": {},
   "outputs": [
    {
     "name": "stdout",
     "output_type": "stream",
     "text": [
      "ExtraTree score: 7.5227 (0.3188)\n",
      "\n"
     ]
    }
   ],
   "source": [
    "score = rmsle_cv(model_extree)\n",
    "print(\"ExtraTree score: {:.4f} ({:.4f})\\n\" .format(score.mean(), score.std()))"
   ]
  },
  {
   "cell_type": "code",
   "execution_count": 111,
   "metadata": {},
   "outputs": [],
   "source": [
    "class AveragingModels(BaseEstimator, RegressorMixin, TransformerMixin):\n",
    "    def __init__(self, models):\n",
    "        self.models = models\n",
    "        \n",
    "    # we define clones of the original models to fit the data in\n",
    "    def fit(self, X, y):\n",
    "        self.models_ = [clone(x) for x in self.models]\n",
    "        \n",
    "        # Train cloned base models\n",
    "        for model in self.models_:\n",
    "            model.fit(X, y)\n",
    "\n",
    "        return self\n",
    "    \n",
    "    #Now we do the predictions for cloned models and average them\n",
    "    def predict(self, X):\n",
    "        predictions = np.column_stack([\n",
    "            model.predict(X) for model in self.models_\n",
    "        ])\n",
    "        return np.mean(predictions, axis=1)   "
   ]
  },
  {
   "cell_type": "code",
   "execution_count": 112,
   "metadata": {},
   "outputs": [
    {
     "name": "stdout",
     "output_type": "stream",
     "text": [
      " Averaged base models score: 6.1911 (0.1721)\n",
      "\n"
     ]
    }
   ],
   "source": [
    "averaged_models = AveragingModels(models = (GBoost, model_lgb, model_rf))\n",
    "\n",
    "score = rmsle_cv(averaged_models)\n",
    "print(\" Averaged base models score: {:.4f} ({:.4f})\\n\".format(score.mean(), score.std()))"
   ]
  },
  {
   "cell_type": "code",
   "execution_count": 113,
   "metadata": {},
   "outputs": [],
   "source": [
    "class StackingAveragedModels(BaseEstimator, RegressorMixin, TransformerMixin):\n",
    "    def __init__(self, base_models, meta_model, n_folds=5):\n",
    "        self.base_models = base_models\n",
    "        self.meta_model = meta_model\n",
    "        self.n_folds = n_folds\n",
    "   \n",
    "    # We again fit the data on clones of the original models\n",
    "    def fit(self, X, y):\n",
    "        self.base_models_ = [list() for x in self.base_models]\n",
    "        self.meta_model_ = clone(self.meta_model)\n",
    "        kfold = KFold(n_splits=self.n_folds, shuffle=True, random_state=156)\n",
    "        \n",
    "        # Train cloned base models then create out-of-fold predictions\n",
    "        # that are needed to train the cloned meta-model\n",
    "        out_of_fold_predictions = np.zeros((X.shape[0], len(self.base_models)))\n",
    "        for i, model in enumerate(self.base_models):\n",
    "            for train_index, holdout_index in kfold.split(X, y):\n",
    "                instance = clone(model)\n",
    "                self.base_models_[i].append(instance)\n",
    "                instance.fit(X[train_index], y[train_index])\n",
    "                y_pred = instance.predict(X[holdout_index])\n",
    "                out_of_fold_predictions[holdout_index, i] = y_pred\n",
    "                \n",
    "        # Now train the cloned  meta-model using the out-of-fold predictions as new feature\n",
    "        self.meta_model_.fit(out_of_fold_predictions, y)\n",
    "        return self\n",
    "   \n",
    "    #Do the predictions of all base models on the test data and use the averaged predictions as \n",
    "    #meta-features for the final prediction which is done by the meta-model\n",
    "    def predict(self, X):\n",
    "        meta_features = np.column_stack([\n",
    "            np.column_stack([model.predict(X) for model in base_models]).mean(axis=1)\n",
    "            for base_models in self.base_models_ ])\n",
    "        return self.meta_model_.predict(meta_features)"
   ]
  },
  {
   "cell_type": "code",
   "execution_count": 114,
   "metadata": {},
   "outputs": [
    {
     "name": "stdout",
     "output_type": "stream",
     "text": [
      "Stacking Averaged models score: nan (nan)\n"
     ]
    },
    {
     "name": "stderr",
     "output_type": "stream",
     "text": [
      "/usr/local/lib/python3.6/dist-packages/sklearn/model_selection/_validation.py:536: FitFailedWarning: Estimator fit failed. The score on this train-test partition for these parameters will be set to nan. Details: \n",
      "KeyError: 'Passing list-likes to .loc or [] with any missing labels is no longer supported, see https://pandas.pydata.org/pandas-docs/stable/user_guide/indexing.html#deprecate-loc-reindex-listlike'\n",
      "\n",
      "  FitFailedWarning)\n"
     ]
    }
   ],
   "source": [
    "stacked_averaged_models = StackingAveragedModels(base_models = (GBoost, model_lgb, model_rf),\n",
    "                                                 meta_model = GBoost)\n",
    "\n",
    "score = rmsle_cv(stacked_averaged_models)\n",
    "print(\"Stacking Averaged models score: {:.4f} ({:.4f})\".format(score.mean(), score.std()))"
   ]
  },
  {
   "cell_type": "code",
   "execution_count": 118,
   "metadata": {},
   "outputs": [],
   "source": [
    "from sklearn.metrics import mean_absolute_error"
   ]
  },
  {
   "cell_type": "code",
   "execution_count": 119,
   "metadata": {},
   "outputs": [],
   "source": [
    "def rmsle(y, y_pred):\n",
    "    return np.sqrt(mean_absolute_error(y, y_pred))"
   ]
  },
  {
   "cell_type": "code",
   "execution_count": null,
   "metadata": {},
   "outputs": [],
   "source": []
  },
  {
   "cell_type": "code",
   "execution_count": null,
   "metadata": {},
   "outputs": [],
   "source": [
    "stacked_averaged_models.fit(train.values, y_train)\n",
    "stacked_train_pred = stacked_averaged_models.predict(train.values)\n",
    "stacked_pred = np.expm1(stacked_averaged_models.predict(test.values))\n",
    "print(rmsle(y_train, stacked_train_pred))"
   ]
  },
  {
   "cell_type": "code",
   "execution_count": null,
   "metadata": {},
   "outputs": [],
   "source": []
  },
  {
   "cell_type": "code",
   "execution_count": null,
   "metadata": {},
   "outputs": [],
   "source": [
    "model_xgb.fit(train, y_train)\n",
    "xgb_train_pred = model_xgb.predict(train)\n",
    "xgb_pred = np.expm1(model_xgb.predict(test))\n",
    "print(rmsle(y_train, xgb_train_pred))"
   ]
  },
  {
   "cell_type": "code",
   "execution_count": null,
   "metadata": {},
   "outputs": [],
   "source": []
  },
  {
   "cell_type": "code",
   "execution_count": null,
   "metadata": {},
   "outputs": [],
   "source": [
    "model_lgb.fit(train, y_train)\n",
    "lgb_train_pred = model_lgb.predict(train)\n",
    "lgb_pred = np.expm1(model_lgb.predict(test.values))\n",
    "print(rmsle(y_train, lgb_train_pred))"
   ]
  },
  {
   "cell_type": "code",
   "execution_count": null,
   "metadata": {},
   "outputs": [],
   "source": []
  },
  {
   "cell_type": "code",
   "execution_count": null,
   "metadata": {},
   "outputs": [],
   "source": []
  },
  {
   "cell_type": "code",
   "execution_count": null,
   "metadata": {},
   "outputs": [],
   "source": [
    "'''RMSE on the entire Train data when averaging'''\n",
    "\n",
    "print('RMSLE score on train data:')\n",
    "print(rmsle(y_train,stacked_train_pred*0.70 +\n",
    "               xgb_train_pred*0.15 + lgb_train_pred*0.15 ))"
   ]
  },
  {
   "cell_type": "code",
   "execution_count": null,
   "metadata": {},
   "outputs": [],
   "source": []
  },
  {
   "cell_type": "code",
   "execution_count": null,
   "metadata": {},
   "outputs": [],
   "source": [
    "ensemble = stacked_pred*0.70 + xgb_pred*0.15 + lgb_pred*0.15"
   ]
  },
  {
   "cell_type": "code",
   "execution_count": null,
   "metadata": {},
   "outputs": [],
   "source": []
  },
  {
   "cell_type": "code",
   "execution_count": null,
   "metadata": {},
   "outputs": [],
   "source": [
    "sub = pd.DataFrame()\n",
    "sub['Id'] = test_ID\n",
    "sub['SalePrice'] = ensemble\n",
    "sub.to_csv('submission.csv',index=False)"
   ]
  },
  {
   "cell_type": "code",
   "execution_count": null,
   "metadata": {},
   "outputs": [],
   "source": []
  }
 ],
 "metadata": {
  "kernelspec": {
   "display_name": "Python 3",
   "language": "python",
   "name": "python3"
  },
  "language_info": {
   "codemirror_mode": {
    "name": "ipython",
    "version": 3
   },
   "file_extension": ".py",
   "mimetype": "text/x-python",
   "name": "python",
   "nbconvert_exporter": "python",
   "pygments_lexer": "ipython3",
   "version": "3.6.9"
  }
 },
 "nbformat": 4,
 "nbformat_minor": 2
}
